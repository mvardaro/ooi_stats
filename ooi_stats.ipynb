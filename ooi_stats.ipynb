{
 "cells": [
  {
   "cell_type": "code",
   "execution_count": 63,
   "metadata": {
    "collapsed": true
   },
   "outputs": [],
   "source": [
    "import requests\n",
    "import json\n",
    "import datetime\n",
    "import pandas as pd"
   ]
  },
  {
   "cell_type": "code",
   "execution_count": 64,
   "metadata": {
    "collapsed": false
   },
   "outputs": [],
   "source": [
    "USERNAME ='OOIAPI-9N9UMLHV9W5GOP'\n",
    "TOKEN= 'SJN6HXHH116OZ8'"
   ]
  },
  {
   "cell_type": "code",
   "execution_count": 65,
   "metadata": {
    "collapsed": false
   },
   "outputs": [],
   "source": [
    "# define your inputs and starting time\n",
    "\n",
    "refdes_streams = '/Users/knuth/Documents/ooi/repos/github/ooi_stats/botpt_streams.csv'\n",
    "begin_time = datetime.date(2016, 7, 10)"
   ]
  },
  {
   "cell_type": "code",
   "execution_count": 66,
   "metadata": {
    "collapsed": true
   },
   "outputs": [],
   "source": [
    "# wrangling\n",
    "\n",
    "# request only parameter 7 (time)\n",
    "parameter = '7' \n",
    "\n",
    "# read in csv (for now)\n",
    "refdes_streams_df = pd.read_csv(refdes_streams, parse_dates=True) # read in csv (for now).\n",
    "\n",
    "# prepare time stamp related stuff\n",
    "begin_time_str = begin_time.strftime('%Y-%m-%dT%H:%M:%S.000Z')\n",
    "end_time = begin_time + datetime.timedelta(seconds=86400)\n",
    "end_time_str = end_time.strftime('%Y-%m-%dT%H:%M:%S.000Z')\n",
    "ntp_epoch = datetime.datetime(1900, 1, 1)\n",
    "unix_epoch = datetime.datetime(1970, 1, 1)\n",
    "ntp_delta = (unix_epoch - ntp_epoch).total_seconds()\n",
    "\n",
    "# create some empty lists as inputs for your final data frame output\n",
    "ref_des_list = []\n",
    "stream_list = []\n",
    "timestamp_list = []"
   ]
  },
  {
   "cell_type": "code",
   "execution_count": 73,
   "metadata": {
    "collapsed": false
   },
   "outputs": [
    {
     "name": "stdout",
     "output_type": "stream",
     "text": [
      "CPU times: user 2.45 s, sys: 111 ms, total: 2.56 s\n",
      "Wall time: 1min 25s\n"
     ]
    }
   ],
   "source": [
    "%%time # use this to test performance\n",
    "\n",
    "# interate over reference designators, delivery methods and streams\n",
    "\n",
    "for index, row in refdes_streams_df.iterrows():\n",
    "    ref_des =  row['ref_des']\n",
    "    stream = row['stream']\n",
    "    delivery_method = row['delivery_method']\n",
    "\n",
    "    # print ref_des,stream,delivery_method\n",
    "    \n",
    "    # while begin_time < datetime.datetime.now().date(): # use this to run from begin time until present\n",
    "    for i in range(5): # use for testing\n",
    "        \n",
    "        try:        \n",
    "            response = requests.get('https://ooinet.oceanobservatories.org/api/m2m/12576/sensor/inv/'+ref_des[:8]+'/'+ref_des[9:14]+'/'+ref_des[15:27]+'/'+delivery_method+'/'+stream+'?beginDT='+begin_time_str+'&endDT='+end_time_str+'&limit=1000&parameters='+parameter, auth=(USERNAME, TOKEN))\n",
    "            data = response.json()\n",
    "            timestamp = data[0]['time']\n",
    "            timestamp = datetime.datetime.utcfromtimestamp(timestamp - ntp_delta).replace(microsecond=0)\n",
    "            timestamp = timestamp.date()\n",
    "\n",
    "            # print timestamp\n",
    "\n",
    "            ref_des_list.append(ref_des)\n",
    "            stream_list.append(stream)\n",
    "            timestamp_list.append(timestamp)\n",
    "\n",
    "        except:\n",
    "            data = response.json()\n",
    "            # print \"\\n From\", begin_time_str, end_time_str, \":\"\n",
    "            # print data['status']\n",
    "\n",
    "\n",
    "        # move to next day\n",
    "        begin_time = begin_time + datetime.timedelta(seconds=86400)\n",
    "        begin_time_str = begin_time.strftime('%Y-%m-%dT%H:%M:%S.000Z')\n",
    "        end_time = end_time + datetime.timedelta(seconds=86400)\n",
    "        end_time_str = end_time.strftime('%Y-%m-%dT%H:%M:%S.000Z')"
   ]
  },
  {
   "cell_type": "code",
   "execution_count": 74,
   "metadata": {
    "collapsed": false
   },
   "outputs": [
    {
     "name": "stdout",
     "output_type": "stream",
     "text": [
      "                          refdes             stream   timestamp\n",
      "0    RS03CCAL-MJ03F-05-BOTPTA301  botpt_heat_sample  2016-07-09\n",
      "1    RS03CCAL-MJ03F-05-BOTPTA301  botpt_heat_sample  2016-07-10\n",
      "2    RS03CCAL-MJ03F-05-BOTPTA301  botpt_heat_sample  2016-07-12\n",
      "3    RS03CCAL-MJ03F-05-BOTPTA301  botpt_heat_sample  2016-07-13\n",
      "4    RS03CCAL-MJ03F-05-BOTPTA301  botpt_iris_sample  2016-07-15\n",
      "5    RS03CCAL-MJ03F-05-BOTPTA301  botpt_iris_sample  2016-07-16\n",
      "6    RS03CCAL-MJ03F-05-BOTPTA301  botpt_iris_sample  2016-07-17\n",
      "7    RS03CCAL-MJ03F-05-BOTPTA301  botpt_iris_sample  2016-07-18\n",
      "8    RS03CCAL-MJ03F-05-BOTPTA301  botpt_iris_sample  2016-07-19\n",
      "9    RS03CCAL-MJ03F-05-BOTPTA301  botpt_lily_sample  2016-07-25\n",
      "10   RS03CCAL-MJ03F-05-BOTPTA301  botpt_lily_sample  2016-07-26\n",
      "11   RS03CCAL-MJ03F-05-BOTPTA301  botpt_lily_sample  2016-07-27\n",
      "12   RS03CCAL-MJ03F-05-BOTPTA301  botpt_lily_sample  2016-07-28\n",
      "13   RS03CCAL-MJ03F-05-BOTPTA301  botpt_lily_sample  2016-07-29\n",
      "14   RS03CCAL-MJ03F-05-BOTPTA301  botpt_nano_sample  2016-07-30\n",
      "15   RS03CCAL-MJ03F-05-BOTPTA301  botpt_nano_sample  2016-07-31\n",
      "16   RS03CCAL-MJ03F-05-BOTPTA301  botpt_nano_sample  2016-08-01\n",
      "17   RS03CCAL-MJ03F-05-BOTPTA301  botpt_nano_sample  2016-08-02\n",
      "18   RS03CCAL-MJ03F-05-BOTPTA301  botpt_nano_sample  2016-08-03\n",
      "19   RS03ECAL-MJ03E-06-BOTPTA302  botpt_heat_sample  2016-08-08\n",
      "20   RS03ECAL-MJ03E-06-BOTPTA302  botpt_heat_sample  2016-08-09\n",
      "21   RS03ECAL-MJ03E-06-BOTPTA302  botpt_heat_sample  2016-08-11\n",
      "22   RS03ECAL-MJ03E-06-BOTPTA302  botpt_heat_sample  2016-08-11\n",
      "23   RS03ECAL-MJ03E-06-BOTPTA302  botpt_heat_sample  2016-08-12\n",
      "24   RS03ECAL-MJ03E-06-BOTPTA302  botpt_iris_sample  2016-08-14\n",
      "25   RS03ECAL-MJ03E-06-BOTPTA302  botpt_iris_sample  2016-08-15\n",
      "26   RS03ECAL-MJ03E-06-BOTPTA302  botpt_iris_sample  2016-08-16\n",
      "27   RS03ECAL-MJ03E-06-BOTPTA302  botpt_iris_sample  2016-08-17\n",
      "28   RS03ECAL-MJ03E-06-BOTPTA302  botpt_iris_sample  2016-08-18\n",
      "29   RS03ECAL-MJ03E-06-BOTPTA302  botpt_lily_sample  2016-08-24\n",
      "..                           ...                ...         ...\n",
      "89   RS03ECAL-MJ03E-06-BOTPTA302  botpt_lily_sample  2016-11-22\n",
      "90   RS03ECAL-MJ03E-06-BOTPTA302  botpt_lily_sample  2016-11-23\n",
      "91   RS03ECAL-MJ03E-06-BOTPTA302  botpt_lily_sample  2016-11-24\n",
      "92   RS03ECAL-MJ03E-06-BOTPTA302  botpt_lily_sample  2016-11-25\n",
      "93   RS03ECAL-MJ03E-06-BOTPTA302  botpt_lily_sample  2016-11-26\n",
      "94   RS03ECAL-MJ03E-06-BOTPTA302  botpt_nano_sample  2016-11-27\n",
      "95   RS03ECAL-MJ03E-06-BOTPTA302  botpt_nano_sample  2016-11-28\n",
      "96   RS03ECAL-MJ03E-06-BOTPTA302  botpt_nano_sample  2016-11-29\n",
      "97   RS03ECAL-MJ03E-06-BOTPTA302  botpt_nano_sample  2016-11-30\n",
      "98   RS03ECAL-MJ03E-06-BOTPTA302  botpt_nano_sample  2016-12-01\n",
      "99   RS03INT2-MJ03D-06-BOTPTA303  botpt_heat_sample  2016-12-06\n",
      "100  RS03INT2-MJ03D-06-BOTPTA303  botpt_heat_sample  2016-12-07\n",
      "101  RS03INT2-MJ03D-06-BOTPTA303  botpt_heat_sample  2016-12-09\n",
      "102  RS03INT2-MJ03D-06-BOTPTA303  botpt_heat_sample  2016-12-09\n",
      "103  RS03INT2-MJ03D-06-BOTPTA303  botpt_heat_sample  2016-12-10\n",
      "104  RS03INT2-MJ03D-06-BOTPTA303  botpt_iris_sample  2016-12-12\n",
      "105  RS03INT2-MJ03D-06-BOTPTA303  botpt_iris_sample  2016-12-13\n",
      "106  RS03INT2-MJ03D-06-BOTPTA303  botpt_iris_sample  2016-12-14\n",
      "107  RS03INT2-MJ03D-06-BOTPTA303  botpt_iris_sample  2016-12-15\n",
      "108  RS03INT2-MJ03D-06-BOTPTA303  botpt_iris_sample  2016-12-16\n",
      "109  RS03INT2-MJ03D-06-BOTPTA303  botpt_lily_sample  2016-12-22\n",
      "110  RS03INT2-MJ03D-06-BOTPTA303  botpt_lily_sample  2016-12-23\n",
      "111  RS03INT2-MJ03D-06-BOTPTA303  botpt_lily_sample  2016-12-24\n",
      "112  RS03INT2-MJ03D-06-BOTPTA303  botpt_lily_sample  2016-12-25\n",
      "113  RS03INT2-MJ03D-06-BOTPTA303  botpt_lily_sample  2016-12-26\n",
      "114  RS03INT2-MJ03D-06-BOTPTA303  botpt_nano_sample  2016-12-27\n",
      "115  RS03INT2-MJ03D-06-BOTPTA303  botpt_nano_sample  2016-12-28\n",
      "116  RS03INT2-MJ03D-06-BOTPTA303  botpt_nano_sample  2016-12-29\n",
      "117  RS03INT2-MJ03D-06-BOTPTA303  botpt_nano_sample  2016-12-30\n",
      "118  RS03INT2-MJ03D-06-BOTPTA303  botpt_nano_sample  2016-12-31\n",
      "\n",
      "[119 rows x 3 columns]\n"
     ]
    }
   ],
   "source": [
    "# convert lists to data frame\n",
    "data_dict = {\n",
    "    'refdes':ref_des_list,\n",
    "    'stream':stream_list,\n",
    "    'timestamp':timestamp_list}\n",
    "ooi_data = pd.DataFrame(data_dict, columns = ['refdes', 'stream', 'timestamp'])\n",
    "print ooi_data"
   ]
  },
  {
   "cell_type": "code",
   "execution_count": 75,
   "metadata": {
    "collapsed": true
   },
   "outputs": [],
   "source": [
    "# collapse by unique ref_des and day with data\n",
    "test = ooi_data\n",
    "test = test.drop('stream', axis = 1)\n",
    "test = test.drop_duplicates()"
   ]
  },
  {
   "cell_type": "code",
   "execution_count": 76,
   "metadata": {
    "collapsed": false
   },
   "outputs": [
    {
     "data": {
      "text/html": [
       "<div>\n",
       "<table border=\"1\" class=\"dataframe\">\n",
       "  <thead>\n",
       "    <tr style=\"text-align: right;\">\n",
       "      <th></th>\n",
       "      <th>refdes</th>\n",
       "      <th>stream</th>\n",
       "      <th>timestamp</th>\n",
       "    </tr>\n",
       "  </thead>\n",
       "  <tbody>\n",
       "    <tr>\n",
       "      <th>0</th>\n",
       "      <td>RS03CCAL-MJ03F-05-BOTPTA301</td>\n",
       "      <td>botpt_heat_sample</td>\n",
       "      <td>2016-07-09</td>\n",
       "    </tr>\n",
       "    <tr>\n",
       "      <th>1</th>\n",
       "      <td>RS03CCAL-MJ03F-05-BOTPTA301</td>\n",
       "      <td>botpt_heat_sample</td>\n",
       "      <td>2016-07-10</td>\n",
       "    </tr>\n",
       "    <tr>\n",
       "      <th>2</th>\n",
       "      <td>RS03CCAL-MJ03F-05-BOTPTA301</td>\n",
       "      <td>botpt_heat_sample</td>\n",
       "      <td>2016-07-12</td>\n",
       "    </tr>\n",
       "    <tr>\n",
       "      <th>3</th>\n",
       "      <td>RS03CCAL-MJ03F-05-BOTPTA301</td>\n",
       "      <td>botpt_heat_sample</td>\n",
       "      <td>2016-07-13</td>\n",
       "    </tr>\n",
       "    <tr>\n",
       "      <th>4</th>\n",
       "      <td>RS03CCAL-MJ03F-05-BOTPTA301</td>\n",
       "      <td>botpt_iris_sample</td>\n",
       "      <td>2016-07-15</td>\n",
       "    </tr>\n",
       "  </tbody>\n",
       "</table>\n",
       "</div>"
      ],
      "text/plain": [
       "                        refdes             stream   timestamp\n",
       "0  RS03CCAL-MJ03F-05-BOTPTA301  botpt_heat_sample  2016-07-09\n",
       "1  RS03CCAL-MJ03F-05-BOTPTA301  botpt_heat_sample  2016-07-10\n",
       "2  RS03CCAL-MJ03F-05-BOTPTA301  botpt_heat_sample  2016-07-12\n",
       "3  RS03CCAL-MJ03F-05-BOTPTA301  botpt_heat_sample  2016-07-13\n",
       "4  RS03CCAL-MJ03F-05-BOTPTA301  botpt_iris_sample  2016-07-15"
      ]
     },
     "execution_count": 76,
     "metadata": {},
     "output_type": "execute_result"
    }
   ],
   "source": [
    "ooi_data.head()"
   ]
  },
  {
   "cell_type": "code",
   "execution_count": 77,
   "metadata": {
    "collapsed": false
   },
   "outputs": [
    {
     "data": {
      "text/html": [
       "<div>\n",
       "<table border=\"1\" class=\"dataframe\">\n",
       "  <thead>\n",
       "    <tr style=\"text-align: right;\">\n",
       "      <th></th>\n",
       "      <th>refdes</th>\n",
       "      <th>timestamp</th>\n",
       "    </tr>\n",
       "  </thead>\n",
       "  <tbody>\n",
       "    <tr>\n",
       "      <th>0</th>\n",
       "      <td>RS03CCAL-MJ03F-05-BOTPTA301</td>\n",
       "      <td>2016-07-09</td>\n",
       "    </tr>\n",
       "    <tr>\n",
       "      <th>1</th>\n",
       "      <td>RS03CCAL-MJ03F-05-BOTPTA301</td>\n",
       "      <td>2016-07-10</td>\n",
       "    </tr>\n",
       "    <tr>\n",
       "      <th>2</th>\n",
       "      <td>RS03CCAL-MJ03F-05-BOTPTA301</td>\n",
       "      <td>2016-07-12</td>\n",
       "    </tr>\n",
       "    <tr>\n",
       "      <th>3</th>\n",
       "      <td>RS03CCAL-MJ03F-05-BOTPTA301</td>\n",
       "      <td>2016-07-13</td>\n",
       "    </tr>\n",
       "    <tr>\n",
       "      <th>4</th>\n",
       "      <td>RS03CCAL-MJ03F-05-BOTPTA301</td>\n",
       "      <td>2016-07-15</td>\n",
       "    </tr>\n",
       "  </tbody>\n",
       "</table>\n",
       "</div>"
      ],
      "text/plain": [
       "                        refdes   timestamp\n",
       "0  RS03CCAL-MJ03F-05-BOTPTA301  2016-07-09\n",
       "1  RS03CCAL-MJ03F-05-BOTPTA301  2016-07-10\n",
       "2  RS03CCAL-MJ03F-05-BOTPTA301  2016-07-12\n",
       "3  RS03CCAL-MJ03F-05-BOTPTA301  2016-07-13\n",
       "4  RS03CCAL-MJ03F-05-BOTPTA301  2016-07-15"
      ]
     },
     "execution_count": 77,
     "metadata": {},
     "output_type": "execute_result"
    }
   ],
   "source": [
    "test.head()"
   ]
  },
  {
   "cell_type": "code",
   "execution_count": null,
   "metadata": {
    "collapsed": true
   },
   "outputs": [],
   "source": []
  }
 ],
 "metadata": {
  "kernelspec": {
   "display_name": "Python 2",
   "language": "python",
   "name": "python2"
  },
  "language_info": {
   "codemirror_mode": {
    "name": "ipython",
    "version": 2
   },
   "file_extension": ".py",
   "mimetype": "text/x-python",
   "name": "python",
   "nbconvert_exporter": "python",
   "pygments_lexer": "ipython2",
   "version": "2.7.13"
  }
 },
 "nbformat": 4,
 "nbformat_minor": 2
}
