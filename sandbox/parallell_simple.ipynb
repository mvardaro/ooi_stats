{
 "cells": [
  {
   "cell_type": "code",
   "execution_count": 21,
   "metadata": {
    "collapsed": false
   },
   "outputs": [],
   "source": [
    "import datetime\n",
    "import requests\n",
    "import json\n",
    "import pandas as pd\n",
    "import concurrent.futures"
   ]
  },
  {
   "cell_type": "code",
   "execution_count": 22,
   "metadata": {
    "collapsed": true
   },
   "outputs": [],
   "source": [
    "username = 'OOIAPI-9N9UMLHV9W5GOP'\n",
    "token = 'SJN6HXHH116OZ8'"
   ]
  },
  {
   "cell_type": "code",
   "execution_count": 23,
   "metadata": {
    "collapsed": true
   },
   "outputs": [],
   "source": [
    "requests_list = ['https://ooinet.oceanobservatories.org/api/m2m/12576/sensor/inv/GS03FLMB/RIM01/02-CTDMOG060/metadata/times?partition=true',\n",
    "                 'https://ooinet.oceanobservatories.org/api/m2m/12576/sensor/inv/RS03AXPS/SF03A/2A-CTDPFA302/metadata/times?partition=true',\n",
    "                 'https://ooinet.oceanobservatories.org/api/m2m/12576/sensor/inv/GS03FLMB/RIM01/02-CTDMOG060/metadata/times?partition=true',\n",
    "                 'https://ooinet.oceanobservatories.org/api/m2m/12576/sensor/inv/GS03FLMB/RIM01/02-CTDMOG060/metadata/times?partition=true',\n",
    "                 'https://ooinet.oceanobservatories.org/api/m2m/12576/sensor/inv/GS03FLMB/RIM01/02-CTDMOG060/metadata/times?partition=true',\n",
    "                 'https://ooinet.oceanobservatories.org/api/m2m/12576/sensor/inv/GS03FLMB/RIM01/02-CTDMOG060/metadata/times?partition=true',\n",
    "                 'https://ooinet.oceanobservatories.org/api/m2m/12576/sensor/inv/GS03FLMB/RIM01/02-CTDMOG060/metadata/times?partition=true',\n",
    "                 'https://ooinet.oceanobservatories.org/api/m2m/12576/sensor/inv/GS03FLMB/RIM01/02-CTDMOG060/metadata/times?partition=true',\n",
    "                 'https://ooinet.oceanobservatories.org/api/m2m/12576/sensor/inv/GS03FLMB/RIM01/02-CTDMOG060/metadata/times?partition=true',\n",
    "                 'https://ooinet.oceanobservatories.org/api/m2m/12576/sensor/inv/GS03FLMB/RIM01/02-CTDMOG060/metadata/times?partition=true',\n",
    "                 'https://ooinet.oceanobservatories.org/api/m2m/12576/sensor/inv/GS03FLMB/RIM01/02-CTDMOG060/metadata/times?partition=true',\n",
    "                 'https://ooinet.oceanobservatories.org/api/m2m/12576/sensor/inv/GS03FLMB/RIM01/02-CTDMOG060/metadata/times?partition=true',\n",
    "                 'https://ooinet.oceanobservatories.org/api/m2m/12576/sensor/inv/GS03FLMB/RIM01/02-CTDMOG060/metadata/times?partition=true',\n",
    "                 'https://ooinet.oceanobservatories.org/api/m2m/12576/sensor/inv/GS03FLMB/RIM01/02-CTDMOG060/metadata/times?partition=true',\n",
    "                 'https://ooinet.oceanobservatories.org/api/m2m/12576/sensor/inv/GS03FLMB/RIM01/02-CTDMOG060/metadata/times?partition=true',\n",
    "                 'https://ooinet.oceanobservatories.org/api/m2m/12576/sensor/inv/GS03FLMB/RIM01/02-CTDMOG060/metadata/times?partition=true',\n",
    "                 'https://ooinet.oceanobservatories.org/api/m2m/12576/sensor/inv/GS03FLMB/RIM01/02-CTDMOG060/metadata/times?partition=true',\n",
    "                 'https://ooinet.oceanobservatories.org/api/m2m/12576/sensor/inv/GS03FLMB/RIM01/02-CTDMOG060/metadata/times?partition=true',\n",
    "                 'https://ooinet.oceanobservatories.org/api/m2m/12576/sensor/inv/GS03FLMB/RIM01/02-CTDMOG060/metadata/times?partition=true',\n",
    "                 'https://ooinet.oceanobservatories.org/api/m2m/12576/sensor/inv/GS03FLMB/RIM01/02-CTDMOG060/metadata/times?partition=true',\n",
    "                 'https://ooinet.oceanobservatories.org/api/m2m/12576/sensor/inv/GS03FLMB/RIM01/02-CTDMOG060/metadata/times?partition=true',\n",
    "                 'https://ooinet.oceanobservatories.org/api/m2m/12576/sensor/inv/GS03FLMB/RIM01/02-CTDMOG060/metadata/times?partition=true',\n",
    "                 'https://ooinet.oceanobservatories.org/api/m2m/12576/sensor/inv/GS03FLMB/RIM01/02-CTDMOG060/metadata/times?partition=true',\n",
    "                 'https://ooinet.oceanobservatories.org/api/m2m/12576/sensor/inv/GS03FLMB/RIM01/02-CTDMOG060/metadata/times?partition=true',\n",
    "                 'https://ooinet.oceanobservatories.org/api/m2m/12576/sensor/inv/GS03FLMB/RIM01/02-CTDMOG060/metadata/times?partition=true',\n",
    "                 'https://ooinet.oceanobservatories.org/api/m2m/12576/sensor/inv/GS03FLMB/RIM01/02-CTDMOG060/metadata/times?partition=true',\n",
    "                 'https://ooinet.oceanobservatories.org/api/m2m/12576/sensor/inv/GS03FLMB/RIM01/02-CTDMOG060/metadata/times?partition=true',\n",
    "                 'https://ooinet.oceanobservatories.org/api/m2m/12576/sensor/inv/GS03FLMB/RIM01/02-CTDMOG060/metadata/times?partition=true',\n",
    "                 'https://ooinet.oceanobservatories.org/api/m2m/12576/sensor/inv/GS03FLMB/RIM01/02-CTDMOG060/metadata/times?partition=true',\n",
    "                 'https://ooinet.oceanobservatories.org/api/m2m/12576/sensor/inv/GS03FLMB/RIM01/02-CTDMOG060/metadata/times?partition=true',\n",
    "                 'https://ooinet.oceanobservatories.org/api/m2m/12576/sensor/inv/GS03FLMB/RIM01/02-CTDMOG060/metadata/times?partition=true',\n",
    "                 'https://ooinet.oceanobservatories.org/api/m2m/12576/sensor/inv/GS03FLMB/RIM01/02-CTDMOG060/metadata/times?partition=true',\n",
    "                 'https://ooinet.oceanobservatories.org/api/m2m/12576/sensor/inv/GS03FLMB/RIM01/02-CTDMOG060/metadata/times?partition=true',\n",
    "                 'https://ooinet.oceanobservatories.org/api/m2m/12576/sensor/inv/GS03FLMB/RIM01/02-CTDMOG060/metadata/times?partition=true',\n",
    "                 'https://ooinet.oceanobservatories.org/api/m2m/12576/sensor/inv/GS03FLMB/RIM01/02-CTDMOG060/metadata/times?partition=true',\n",
    "                 'https://ooinet.oceanobservatories.org/api/m2m/12576/sensor/inv/GS03FLMB/RIM01/02-CTDMOG060/metadata/times?partition=true',\n",
    "                 'https://ooinet.oceanobservatories.org/api/m2m/12576/sensor/inv/GS03FLMB/RIM01/02-CTDMOG060/metadata/times?partition=true',\n",
    "                 'https://ooinet.oceanobservatories.org/api/m2m/12576/sensor/inv/GS03FLMB/RIM01/02-CTDMOG060/metadata/times?partition=true',\n",
    "                 'https://ooinet.oceanobservatories.org/api/m2m/12576/sensor/inv/GS03FLMB/RIM01/02-CTDMOG060/metadata/times?partition=true',\n",
    "                 'https://ooinet.oceanobservatories.org/api/m2m/12576/sensor/inv/GS03FLMB/RIM01/02-CTDMOG060/metadata/times?partition=true',\n",
    "                 'https://ooinet.oceanobservatories.org/api/m2m/12576/sensor/inv/GS03FLMB/RIM01/02-CTDMOG060/metadata/times?partition=true',\n",
    "                 'https://ooinet.oceanobservatories.org/api/m2m/12576/sensor/inv/GS03FLMB/RIM01/02-CTDMOG060/metadata/times?partition=true',\n",
    "                 'https://ooinet.oceanobservatories.org/api/m2m/12576/sensor/inv/GS03FLMB/RIM01/02-CTDMOG060/metadata/times?partition=true',\n",
    "                 'https://ooinet.oceanobservatories.org/api/m2m/12576/sensor/inv/GS03FLMB/RIM01/02-CTDMOG060/metadata/times?partition=true',\n",
    "                 'https://ooinet.oceanobservatories.org/api/m2m/12576/sensor/inv/GS03FLMB/RIM01/02-CTDMOG060/metadata/times?partition=true',\n",
    "                 'https://ooinet.oceanobservatories.org/api/m2m/12576/sensor/inv/GS03FLMB/RIM01/02-CTDMOG060/metadata/times?partition=true',\n",
    "                 'https://ooinet.oceanobservatories.org/api/m2m/12576/sensor/inv/GS03FLMB/RIM01/02-CTDMOG060/metadata/times?partition=true',\n",
    "                 'https://ooinet.oceanobservatories.org/api/m2m/12576/sensor/inv/GS03FLMB/RIM01/02-CTDMOG060/metadata/times?partition=true',\n",
    "                 'https://ooinet.oceanobservatories.org/api/m2m/12576/sensor/inv/GS03FLMB/RIM01/02-CTDMOG060/metadata/times?partition=true',\n",
    "                 'https://ooinet.oceanobservatories.org/api/m2m/12576/sensor/inv/GS03FLMB/RIM01/02-CTDMOG060/metadata/times?partition=true',\n",
    "                 'https://ooinet.oceanobservatories.org/api/m2m/12576/sensor/inv/GS03FLMB/RIM01/02-CTDMOG060/metadata/times?partition=true',\n",
    "                 'https://ooinet.oceanobservatories.org/api/m2m/12576/sensor/inv/GS03FLMB/RIM01/02-CTDMOG060/metadata/times?partition=true',\n",
    "                 'https://ooinet.oceanobservatories.org/api/m2m/12576/sensor/inv/GS03FLMB/RIM01/02-CTDMOG060/metadata/times?partition=true',\n",
    "                 'https://ooinet.oceanobservatories.org/api/m2m/12576/sensor/inv/GS03FLMB/RIM01/02-CTDMOG060/metadata/times?partition=true',\n",
    "                 'https://ooinet.oceanobservatories.org/api/m2m/12576/sensor/inv/GS03FLMB/RIM01/02-CTDMOG060/metadata/times?partition=true',\n",
    "                 'https://ooinet.oceanobservatories.org/api/m2m/12576/sensor/inv/GS03FLMB/RIM01/02-CTDMOG060/metadata/times?partition=true',\n",
    "                 'https://ooinet.oceanobservatories.org/api/m2m/12576/sensor/inv/GS03FLMB/RIM01/02-CTDMOG060/metadata/times?partition=true',\n",
    "                 'https://ooinet.oceanobservatories.org/api/m2m/12576/sensor/inv/GS03FLMB/RIM01/02-CTDMOG060/metadata/times?partition=true',\n",
    "                 'https://ooinet.oceanobservatories.org/api/m2m/12576/sensor/inv/GS03FLMB/RIM01/02-CTDMOG060/metadata/times?partition=true',\n",
    "                 'https://ooinet.oceanobservatories.org/api/m2m/12576/sensor/inv/GS03FLMB/RIM01/02-CTDMOG060/metadata/times?partition=true',\n",
    "                 'https://ooinet.oceanobservatories.org/api/m2m/12576/sensor/inv/GS03FLMB/RIM01/02-CTDMOG060/metadata/times?partition=true',\n",
    "                 'https://ooinet.oceanobservatories.org/api/m2m/12576/sensor/inv/GS03FLMB/RIM01/02-CTDMOG060/metadata/times?partition=true',\n",
    "                 'https://ooinet.oceanobservatories.org/api/m2m/12576/sensor/inv/GS03FLMB/RIM01/02-CTDMOG060/metadata/times?partition=true',\n",
    "                 'https://ooinet.oceanobservatories.org/api/m2m/12576/sensor/inv/GS03FLMB/RIM01/02-CTDMOG060/metadata/times?partition=true',\n",
    "                 'https://ooinet.oceanobservatories.org/api/m2m/12576/sensor/inv/GS03FLMB/RIM01/02-CTDMOG060/metadata/times?partition=true',\n",
    "                 'https://ooinet.oceanobservatories.org/api/m2m/12576/sensor/inv/GS03FLMB/RIM01/02-CTDMOG060/metadata/times?partition=true',\n",
    "                 'https://ooinet.oceanobservatories.org/api/m2m/12576/sensor/inv/GS03FLMB/RIM01/02-CTDMOG060/metadata/times?partition=true',\n",
    "                 'https://ooinet.oceanobservatories.org/api/m2m/12576/sensor/inv/GS03FLMB/RIM01/02-CTDMOG060/metadata/times?partition=true',\n",
    "                ]"
   ]
  },
  {
   "cell_type": "code",
   "execution_count": 24,
   "metadata": {
    "collapsed": true
   },
   "outputs": [],
   "source": [
    "pool = concurrent.futures.ThreadPoolExecutor(max_workers=5)\n",
    "session = requests.session()"
   ]
  },
  {
   "cell_type": "code",
   "execution_count": 25,
   "metadata": {
    "collapsed": true
   },
   "outputs": [],
   "source": [
    "def request_data(url,username,token):\n",
    "    auth = (username, token)\n",
    "    return session.get(url,auth=auth)"
   ]
  },
  {
   "cell_type": "code",
   "execution_count": 26,
   "metadata": {
    "collapsed": false
   },
   "outputs": [],
   "source": [
    "future_to_url = {pool.submit(request_data, url, username, token): url for url in requests_list}"
   ]
  },
  {
   "cell_type": "code",
   "execution_count": 27,
   "metadata": {
    "collapsed": false
   },
   "outputs": [
    {
     "name": "stdout",
     "output_type": "stream",
     "text": [
      "<Response [200]>\n",
      "<Response [200]>\n",
      "<Response [200]>\n",
      "<Response [200]>\n",
      "<Response [200]>\n",
      "<Response [200]>\n",
      "<Response [200]>\n",
      "<Response [200]>\n",
      "<Response [200]>\n",
      "<Response [200]>\n",
      "<Response [200]>\n",
      "<Response [200]>\n",
      "<Response [200]>\n",
      "<Response [200]>\n",
      "<Response [200]>\n",
      "<Response [200]>\n",
      "<Response [200]>\n",
      "<Response [200]>\n",
      "<Response [200]>\n",
      "<Response [200]>\n",
      "<Response [200]>\n",
      "<Response [200]>\n",
      "<Response [200]>\n",
      "<Response [200]>\n",
      "<Response [200]>\n",
      "<Response [200]>\n",
      "<Response [200]>\n",
      "<Response [200]>\n",
      "<Response [200]>\n",
      "<Response [200]>\n",
      "<Response [200]>\n",
      "<Response [200]>\n",
      "<Response [200]>\n",
      "<Response [200]>\n",
      "<Response [200]>\n",
      "<Response [200]>\n",
      "<Response [200]>\n",
      "<Response [200]>\n",
      "<Response [200]>\n",
      "<Response [200]>\n",
      "<Response [200]>\n",
      "<Response [200]>\n",
      "<Response [200]>\n",
      "<Response [200]>\n",
      "<Response [200]>\n",
      "<Response [200]>\n",
      "<Response [200]>\n",
      "<Response [200]>\n",
      "<Response [200]>\n",
      "<Response [200]>\n",
      "<Response [200]>\n",
      "<Response [200]>\n",
      "<Response [200]>\n",
      "<Response [200]>\n",
      "<Response [200]>\n",
      "<Response [200]>\n",
      "<Response [200]>\n",
      "<Response [200]>\n",
      "<Response [200]>\n",
      "<Response [200]>\n",
      "<Response [200]>\n",
      "<Response [200]>\n",
      "<Response [200]>\n",
      "<Response [200]>\n",
      "<Response [200]>\n",
      "<Response [200]>\n",
      "<Response [200]>\n",
      "<Response [200]>\n"
     ]
    }
   ],
   "source": [
    "for future in concurrent.futures.as_completed(future_to_url):\n",
    "    url = future_to_url[future]\n",
    "    data = future.result()\n",
    "#     data = data.json()\n",
    "    print(data)"
   ]
  },
  {
   "cell_type": "code",
   "execution_count": null,
   "metadata": {
    "collapsed": true
   },
   "outputs": [],
   "source": []
  }
 ],
 "metadata": {
  "kernelspec": {
   "display_name": "Python 3",
   "language": "python",
   "name": "python3"
  },
  "language_info": {
   "codemirror_mode": {
    "name": "ipython",
    "version": 3
   },
   "file_extension": ".py",
   "mimetype": "text/x-python",
   "name": "python",
   "nbconvert_exporter": "python",
   "pygments_lexer": "ipython3",
   "version": "3.6.2"
  }
 },
 "nbformat": 4,
 "nbformat_minor": 2
}
