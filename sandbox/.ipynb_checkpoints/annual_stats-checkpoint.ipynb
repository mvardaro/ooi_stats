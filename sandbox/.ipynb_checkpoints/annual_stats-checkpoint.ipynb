{
 "cells": [
  {
   "cell_type": "code",
   "execution_count": 59,
   "metadata": {
    "collapsed": true
   },
   "outputs": [],
   "source": [
    "import requests\n",
    "import json\n",
    "import datetime\n",
    "import pandas as pd\n",
    "import numpy as np\n",
    "import csv"
   ]
  },
  {
   "cell_type": "code",
   "execution_count": 60,
   "metadata": {
    "collapsed": true
   },
   "outputs": [],
   "source": [
    "USERNAME ='OOIAPI-9N9UMLHV9W5GOP'\n",
    "TOKEN= 'SJN6HXHH116OZ8'"
   ]
  },
  {
   "cell_type": "code",
   "execution_count": 61,
   "metadata": {
    "collapsed": true
   },
   "outputs": [],
   "source": [
    "refdes_streams = '/Users/knuth/Documents/ooi/repos/github/ooi_stats/sandbox/test.csv'\n",
    "\n",
    "# need to specify a minute into day, else data from previous day is requested\n",
    "begin_time_set = datetime.datetime(2017, 7, 1, 0,0,0)  "
   ]
  },
  {
   "cell_type": "code",
   "execution_count": 62,
   "metadata": {
    "collapsed": false
   },
   "outputs": [
    {
     "data": {
      "text/plain": [
       "5"
      ]
     },
     "execution_count": 62,
     "metadata": {},
     "output_type": "execute_result"
    }
   ],
   "source": [
    "# request only parameter 7 (time)\n",
    "parameter = '7' \n",
    "\n",
    "# read in csv (for now)\n",
    "refdes_streams_df = pd.read_csv(refdes_streams, parse_dates=True) # read in csv (for now).\n",
    "\n",
    "# prepare time stamp converters\n",
    "ntp_epoch = datetime.datetime(1900, 1, 1)\n",
    "unix_epoch = datetime.datetime(1970, 1, 1)\n",
    "ntp_delta = (unix_epoch - ntp_epoch).total_seconds()\n",
    "now = datetime.datetime.now()\n",
    "# days = abs(begin_time_set.date() - now.date())\n",
    "# days = int(days.days)\n",
    "days = 5\n",
    "\n",
    "# create some empty lists as inputs for your final data frame output\n",
    "ref_des_list = []\n",
    "stream_list = []\n",
    "timestamp_list = []\n",
    "days"
   ]
  },
  {
   "cell_type": "code",
   "execution_count": 63,
   "metadata": {
    "collapsed": false
   },
   "outputs": [
    {
     "name": "stdout",
     "output_type": "stream",
     "text": [
      "CPU times: user 3.71 s, sys: 162 ms, total: 3.87 s\n",
      "Wall time: 2min 6s\n"
     ]
    }
   ],
   "source": [
    "%%time\n",
    "\n",
    "# interate over reference designators, delivery methods and streams\n",
    "\n",
    "for index, row in refdes_streams_df.iterrows():\n",
    "    ref_des =  row['refdes']\n",
    "    stream = row['stream']\n",
    "    delivery_method = row['method']\n",
    "    \n",
    "    begin_time = begin_time_set\n",
    "    begin_time_str = begin_time.strftime('%Y-%m-%dT%H:%M:%S.000Z')\n",
    "    end_time = begin_time + datetime.timedelta(seconds=86400)\n",
    "    end_time_str = end_time.strftime('%Y-%m-%dT%H:%M:%S.000Z')\n",
    "\n",
    "#     print ref_des,stream,delivery_method\n",
    "    \n",
    "#     while begin_time_set < now:\n",
    "    for i in range(days):\n",
    "        \n",
    "        try:        \n",
    "            response = requests.get('https://ooinet.oceanobservatories.org/api/m2m/12576/sensor/inv/'+\n",
    "                                    ref_des[:8]+'/'+ref_des[9:14]+'/'+ref_des[15:27]+'/'+\n",
    "                                    delivery_method+'/'+stream+\n",
    "                                    '?beginDT='+begin_time_str+'&endDT='+end_time_str+\n",
    "                                    '&limit=1000&parameters='+parameter, \n",
    "                                    auth=(USERNAME, TOKEN))\n",
    "            data = response.json()\n",
    "            timestamp = data[0]['time']\n",
    "            timestamp = datetime.datetime.utcfromtimestamp(timestamp - ntp_delta).replace(microsecond=0)\n",
    "            timestamp = timestamp.date()\n",
    "            \n",
    "#             print begin_time_str, end_time_str\n",
    "#             print timestamp\n",
    "\n",
    "            ref_des_list.append(ref_des)\n",
    "            stream_list.append(stream)\n",
    "            timestamp_list.append(timestamp)\n",
    "\n",
    "        except:\n",
    "            data = response.json()\n",
    "            # print \"\\n From\", begin_time_str, end_time_str, \":\"\n",
    "            # print data['status']\n",
    "\n",
    "\n",
    "        # move to next day\n",
    "        begin_time = begin_time + datetime.timedelta(seconds=86400)\n",
    "        begin_time_str = begin_time.strftime('%Y-%m-%dT%H:%M:%S.000Z')\n",
    "        end_time = end_time + datetime.timedelta(seconds=86400)\n",
    "        end_time_str = end_time.strftime('%Y-%m-%dT%H:%M:%S.000Z')"
   ]
  },
  {
   "cell_type": "code",
   "execution_count": 64,
   "metadata": {
    "collapsed": false
   },
   "outputs": [],
   "source": [
    "# convert lists to data frame\n",
    "data_dict = {\n",
    "    'refdes':ref_des_list,\n",
    "    'stream':stream_list,\n",
    "    'timestamp':timestamp_list}\n",
    "ooi_data = pd.DataFrame(data_dict, columns = ['refdes', 'stream', 'timestamp'])"
   ]
  },
  {
   "cell_type": "code",
   "execution_count": 66,
   "metadata": {
    "collapsed": false
   },
   "outputs": [
    {
     "ename": "ValueError",
     "evalue": "labels ['stream'] not contained in axis",
     "output_type": "error",
     "traceback": [
      "\u001b[0;31m---------------------------------------------------------------------------\u001b[0m",
      "\u001b[0;31mValueError\u001b[0m                                Traceback (most recent call last)",
      "\u001b[0;32m<ipython-input-66-02a92c152c10>\u001b[0m in \u001b[0;36m<module>\u001b[0;34m()\u001b[0m\n\u001b[1;32m      1\u001b[0m \u001b[0;31m# collapse by unique ref_des and day with data\u001b[0m\u001b[0;34m\u001b[0m\u001b[0;34m\u001b[0m\u001b[0m\n\u001b[0;32m----> 2\u001b[0;31m \u001b[0mooi_data\u001b[0m \u001b[0;34m=\u001b[0m \u001b[0mooi_data\u001b[0m\u001b[0;34m.\u001b[0m\u001b[0mdrop\u001b[0m\u001b[0;34m(\u001b[0m\u001b[0;34m'stream'\u001b[0m\u001b[0;34m,\u001b[0m \u001b[0maxis\u001b[0m \u001b[0;34m=\u001b[0m \u001b[0;36m1\u001b[0m\u001b[0;34m)\u001b[0m\u001b[0;34m\u001b[0m\u001b[0m\n\u001b[0m\u001b[1;32m      3\u001b[0m \u001b[0mooi_data\u001b[0m \u001b[0;34m=\u001b[0m \u001b[0mooi_data\u001b[0m\u001b[0;34m.\u001b[0m\u001b[0mdrop_duplicates\u001b[0m\u001b[0;34m(\u001b[0m\u001b[0;34m)\u001b[0m\u001b[0;34m\u001b[0m\u001b[0m\n\u001b[1;32m      4\u001b[0m \u001b[0mooi_data\u001b[0m \u001b[0;34m=\u001b[0m \u001b[0mooi_data\u001b[0m\u001b[0;34m[\u001b[0m\u001b[0mooi_data\u001b[0m\u001b[0;34m.\u001b[0m\u001b[0mtimestamp\u001b[0m \u001b[0;34m>=\u001b[0m \u001b[0mbegin_time_set\u001b[0m\u001b[0;34m.\u001b[0m\u001b[0mdate\u001b[0m\u001b[0;34m(\u001b[0m\u001b[0;34m)\u001b[0m\u001b[0;34m]\u001b[0m\u001b[0;34m\u001b[0m\u001b[0m\n\u001b[1;32m      5\u001b[0m \u001b[0;34m\u001b[0m\u001b[0m\n",
      "\u001b[0;32m/Users/knuth/miniconda2/lib/python2.7/site-packages/pandas/core/generic.pyc\u001b[0m in \u001b[0;36mdrop\u001b[0;34m(self, labels, axis, level, inplace, errors)\u001b[0m\n\u001b[1;32m   1905\u001b[0m                 \u001b[0mnew_axis\u001b[0m \u001b[0;34m=\u001b[0m \u001b[0maxis\u001b[0m\u001b[0;34m.\u001b[0m\u001b[0mdrop\u001b[0m\u001b[0;34m(\u001b[0m\u001b[0mlabels\u001b[0m\u001b[0;34m,\u001b[0m \u001b[0mlevel\u001b[0m\u001b[0;34m=\u001b[0m\u001b[0mlevel\u001b[0m\u001b[0;34m,\u001b[0m \u001b[0merrors\u001b[0m\u001b[0;34m=\u001b[0m\u001b[0merrors\u001b[0m\u001b[0;34m)\u001b[0m\u001b[0;34m\u001b[0m\u001b[0m\n\u001b[1;32m   1906\u001b[0m             \u001b[0;32melse\u001b[0m\u001b[0;34m:\u001b[0m\u001b[0;34m\u001b[0m\u001b[0m\n\u001b[0;32m-> 1907\u001b[0;31m                 \u001b[0mnew_axis\u001b[0m \u001b[0;34m=\u001b[0m \u001b[0maxis\u001b[0m\u001b[0;34m.\u001b[0m\u001b[0mdrop\u001b[0m\u001b[0;34m(\u001b[0m\u001b[0mlabels\u001b[0m\u001b[0;34m,\u001b[0m \u001b[0merrors\u001b[0m\u001b[0;34m=\u001b[0m\u001b[0merrors\u001b[0m\u001b[0;34m)\u001b[0m\u001b[0;34m\u001b[0m\u001b[0m\n\u001b[0m\u001b[1;32m   1908\u001b[0m             \u001b[0mdropped\u001b[0m \u001b[0;34m=\u001b[0m \u001b[0mself\u001b[0m\u001b[0;34m.\u001b[0m\u001b[0mreindex\u001b[0m\u001b[0;34m(\u001b[0m\u001b[0;34m**\u001b[0m\u001b[0;34m{\u001b[0m\u001b[0maxis_name\u001b[0m\u001b[0;34m:\u001b[0m \u001b[0mnew_axis\u001b[0m\u001b[0;34m}\u001b[0m\u001b[0;34m)\u001b[0m\u001b[0;34m\u001b[0m\u001b[0m\n\u001b[1;32m   1909\u001b[0m             \u001b[0;32mtry\u001b[0m\u001b[0;34m:\u001b[0m\u001b[0;34m\u001b[0m\u001b[0m\n",
      "\u001b[0;32m/Users/knuth/miniconda2/lib/python2.7/site-packages/pandas/indexes/base.pyc\u001b[0m in \u001b[0;36mdrop\u001b[0;34m(self, labels, errors)\u001b[0m\n\u001b[1;32m   3260\u001b[0m             \u001b[0;32mif\u001b[0m \u001b[0merrors\u001b[0m \u001b[0;34m!=\u001b[0m \u001b[0;34m'ignore'\u001b[0m\u001b[0;34m:\u001b[0m\u001b[0;34m\u001b[0m\u001b[0m\n\u001b[1;32m   3261\u001b[0m                 raise ValueError('labels %s not contained in axis' %\n\u001b[0;32m-> 3262\u001b[0;31m                                  labels[mask])\n\u001b[0m\u001b[1;32m   3263\u001b[0m             \u001b[0mindexer\u001b[0m \u001b[0;34m=\u001b[0m \u001b[0mindexer\u001b[0m\u001b[0;34m[\u001b[0m\u001b[0;34m~\u001b[0m\u001b[0mmask\u001b[0m\u001b[0;34m]\u001b[0m\u001b[0;34m\u001b[0m\u001b[0m\n\u001b[1;32m   3264\u001b[0m         \u001b[0;32mreturn\u001b[0m \u001b[0mself\u001b[0m\u001b[0;34m.\u001b[0m\u001b[0mdelete\u001b[0m\u001b[0;34m(\u001b[0m\u001b[0mindexer\u001b[0m\u001b[0;34m)\u001b[0m\u001b[0;34m\u001b[0m\u001b[0m\n",
      "\u001b[0;31mValueError\u001b[0m: labels ['stream'] not contained in axis"
     ]
    }
   ],
   "source": [
    "# collapse by unique ref_des and day with data\n",
    "ooi_data = ooi_data.drop('stream', axis = 1)\n",
    "ooi_data = ooi_data.drop_duplicates()\n",
    "ooi_data = ooi_data[ooi_data.timestamp >= begin_time_set.date()]\n",
    "\n",
    "# write instruments with no data to file\n",
    "dfa = ooi_data.drop(['timestamp'],axis = 1)\n",
    "dfa = dfa['refdes'].values\n",
    "\n",
    "refdes_streams_df = refdes_streams_df.drop(['stream','method'], axis = 1)\n",
    "dfb = refdes_streams_df['refdes'].values\n",
    "\n",
    "dfc = list(set(dfb) - set(dfa))\n",
    "dfc = pd.DataFrame(dfc,columns=['refdes'])"
   ]
  },
  {
   "cell_type": "code",
   "execution_count": 89,
   "metadata": {
    "collapsed": true
   },
   "outputs": [],
   "source": [
    "timetable = pd.concat([ooi_data, dfc])\n",
    "timetable['data'] = timetable['timestamp'].notnull()\n",
    "timetable = timetable.pivot(index='refdes', columns='timestamp', values='data')\n",
    "timetable.to_csv('output/timetable.csv', index=True)"
   ]
  },
  {
   "cell_type": "code",
   "execution_count": 57,
   "metadata": {
    "collapsed": false
   },
   "outputs": [
    {
     "ename": "ValueError",
     "evalue": "labels ['stream'] not contained in axis",
     "output_type": "error",
     "traceback": [
      "\u001b[0;31m---------------------------------------------------------------------------\u001b[0m",
      "\u001b[0;31mValueError\u001b[0m                                Traceback (most recent call last)",
      "\u001b[0;32m<ipython-input-57-771d1f121bad>\u001b[0m in \u001b[0;36m<module>\u001b[0;34m()\u001b[0m\n\u001b[1;32m      1\u001b[0m \u001b[0;31m# collapse by unique ref_des and day with data\u001b[0m\u001b[0;34m\u001b[0m\u001b[0;34m\u001b[0m\u001b[0m\n\u001b[0;32m----> 2\u001b[0;31m \u001b[0mooi_data\u001b[0m \u001b[0;34m=\u001b[0m \u001b[0mooi_data\u001b[0m\u001b[0;34m.\u001b[0m\u001b[0mdrop\u001b[0m\u001b[0;34m(\u001b[0m\u001b[0;34m'stream'\u001b[0m\u001b[0;34m,\u001b[0m \u001b[0maxis\u001b[0m \u001b[0;34m=\u001b[0m \u001b[0;36m1\u001b[0m\u001b[0;34m)\u001b[0m\u001b[0;34m\u001b[0m\u001b[0m\n\u001b[0m\u001b[1;32m      3\u001b[0m \u001b[0mooi_data\u001b[0m \u001b[0;34m=\u001b[0m \u001b[0mooi_data\u001b[0m\u001b[0;34m.\u001b[0m\u001b[0mdrop_duplicates\u001b[0m\u001b[0;34m(\u001b[0m\u001b[0;34m)\u001b[0m\u001b[0;34m\u001b[0m\u001b[0m\n\u001b[1;32m      4\u001b[0m \u001b[0mooi_data\u001b[0m \u001b[0;34m=\u001b[0m \u001b[0mooi_data\u001b[0m\u001b[0;34m[\u001b[0m\u001b[0mooi_data\u001b[0m\u001b[0;34m.\u001b[0m\u001b[0mtimestamp\u001b[0m \u001b[0;34m>=\u001b[0m \u001b[0mbegin_time_set\u001b[0m\u001b[0;34m.\u001b[0m\u001b[0mdate\u001b[0m\u001b[0;34m(\u001b[0m\u001b[0;34m)\u001b[0m\u001b[0;34m]\u001b[0m\u001b[0;34m\u001b[0m\u001b[0m\n\u001b[1;32m      5\u001b[0m \u001b[0mooi_data\u001b[0m\u001b[0;34m.\u001b[0m\u001b[0mto_csv\u001b[0m\u001b[0;34m(\u001b[0m\u001b[0;34m'output/refdes_data.csv'\u001b[0m\u001b[0;34m,\u001b[0m \u001b[0mindex\u001b[0m\u001b[0;34m=\u001b[0m\u001b[0mFalse\u001b[0m\u001b[0;34m)\u001b[0m\u001b[0;34m\u001b[0m\u001b[0m\n",
      "\u001b[0;32m/Users/knuth/miniconda2/lib/python2.7/site-packages/pandas/core/generic.pyc\u001b[0m in \u001b[0;36mdrop\u001b[0;34m(self, labels, axis, level, inplace, errors)\u001b[0m\n\u001b[1;32m   1905\u001b[0m                 \u001b[0mnew_axis\u001b[0m \u001b[0;34m=\u001b[0m \u001b[0maxis\u001b[0m\u001b[0;34m.\u001b[0m\u001b[0mdrop\u001b[0m\u001b[0;34m(\u001b[0m\u001b[0mlabels\u001b[0m\u001b[0;34m,\u001b[0m \u001b[0mlevel\u001b[0m\u001b[0;34m=\u001b[0m\u001b[0mlevel\u001b[0m\u001b[0;34m,\u001b[0m \u001b[0merrors\u001b[0m\u001b[0;34m=\u001b[0m\u001b[0merrors\u001b[0m\u001b[0;34m)\u001b[0m\u001b[0;34m\u001b[0m\u001b[0m\n\u001b[1;32m   1906\u001b[0m             \u001b[0;32melse\u001b[0m\u001b[0;34m:\u001b[0m\u001b[0;34m\u001b[0m\u001b[0m\n\u001b[0;32m-> 1907\u001b[0;31m                 \u001b[0mnew_axis\u001b[0m \u001b[0;34m=\u001b[0m \u001b[0maxis\u001b[0m\u001b[0;34m.\u001b[0m\u001b[0mdrop\u001b[0m\u001b[0;34m(\u001b[0m\u001b[0mlabels\u001b[0m\u001b[0;34m,\u001b[0m \u001b[0merrors\u001b[0m\u001b[0;34m=\u001b[0m\u001b[0merrors\u001b[0m\u001b[0;34m)\u001b[0m\u001b[0;34m\u001b[0m\u001b[0m\n\u001b[0m\u001b[1;32m   1908\u001b[0m             \u001b[0mdropped\u001b[0m \u001b[0;34m=\u001b[0m \u001b[0mself\u001b[0m\u001b[0;34m.\u001b[0m\u001b[0mreindex\u001b[0m\u001b[0;34m(\u001b[0m\u001b[0;34m**\u001b[0m\u001b[0;34m{\u001b[0m\u001b[0maxis_name\u001b[0m\u001b[0;34m:\u001b[0m \u001b[0mnew_axis\u001b[0m\u001b[0;34m}\u001b[0m\u001b[0;34m)\u001b[0m\u001b[0;34m\u001b[0m\u001b[0m\n\u001b[1;32m   1909\u001b[0m             \u001b[0;32mtry\u001b[0m\u001b[0;34m:\u001b[0m\u001b[0;34m\u001b[0m\u001b[0m\n",
      "\u001b[0;32m/Users/knuth/miniconda2/lib/python2.7/site-packages/pandas/indexes/base.pyc\u001b[0m in \u001b[0;36mdrop\u001b[0;34m(self, labels, errors)\u001b[0m\n\u001b[1;32m   3260\u001b[0m             \u001b[0;32mif\u001b[0m \u001b[0merrors\u001b[0m \u001b[0;34m!=\u001b[0m \u001b[0;34m'ignore'\u001b[0m\u001b[0;34m:\u001b[0m\u001b[0;34m\u001b[0m\u001b[0m\n\u001b[1;32m   3261\u001b[0m                 raise ValueError('labels %s not contained in axis' %\n\u001b[0;32m-> 3262\u001b[0;31m                                  labels[mask])\n\u001b[0m\u001b[1;32m   3263\u001b[0m             \u001b[0mindexer\u001b[0m \u001b[0;34m=\u001b[0m \u001b[0mindexer\u001b[0m\u001b[0;34m[\u001b[0m\u001b[0;34m~\u001b[0m\u001b[0mmask\u001b[0m\u001b[0;34m]\u001b[0m\u001b[0;34m\u001b[0m\u001b[0m\n\u001b[1;32m   3264\u001b[0m         \u001b[0;32mreturn\u001b[0m \u001b[0mself\u001b[0m\u001b[0;34m.\u001b[0m\u001b[0mdelete\u001b[0m\u001b[0;34m(\u001b[0m\u001b[0mindexer\u001b[0m\u001b[0;34m)\u001b[0m\u001b[0;34m\u001b[0m\u001b[0m\n",
      "\u001b[0;31mValueError\u001b[0m: labels ['stream'] not contained in axis"
     ]
    }
   ],
   "source": [
    "# collapse by unique ref_des and day with data\n",
    "ooi_data = ooi_data.drop('stream', axis = 1)\n",
    "ooi_data = ooi_data.drop_duplicates()\n",
    "ooi_data = ooi_data[ooi_data.timestamp >= begin_time_set.date()]\n",
    "ooi_data.to_csv('output/refdes_data.csv', index=False)"
   ]
  },
  {
   "cell_type": "code",
   "execution_count": null,
   "metadata": {
    "collapsed": true
   },
   "outputs": [],
   "source": []
  },
  {
   "cell_type": "code",
   "execution_count": 156,
   "metadata": {
    "collapsed": false
   },
   "outputs": [
    {
     "name": "stdout",
     "output_type": "stream",
     "text": [
      "CE01ISSM-MFD35-02-PRESFA000\n",
      "CE05MOAS-GL319-04-DOSTAM000\n",
      "CP05MOAS-A6264-06-PARADN000\n",
      "CE05MOAS-GL320-01-PARADM000\n",
      "CE05MOAS-GL319-03-ADCPAM000\n",
      "CE05MOAS-GL319-05-CTDGVM000\n",
      "CP05MOAS-GL335-01-ADCPAM000\n",
      "CP05MOAS-A6264-04-NUTNRN000\n",
      "CP05MOAS-A6264-03-CTDAVN000\n",
      "CP05MOAS-GL335-02-FLORTM000\n",
      "CE01ISSM-MFD35-01-VEL3DD000\n",
      "RS03AXPS-SF03A-3B-OPTAAD301\n",
      "CP05MOAS-A6264-05-ADCPAN000\n"
     ]
    }
   ],
   "source": [
    "# write instruments with no data to file\n",
    "dfa = ooi_data.drop(['timestamp'],axis = 1)\n",
    "dfa = dfa['refdes'].values\n",
    "\n",
    "refdes_streams_df = refdes_streams_df.drop(['stream','method'], axis = 1)\n",
    "dfb = refdes_streams_df['refdes'].values\n",
    "\n",
    "dfc = list(set(dfb) - set(dfa))\n",
    "with open('output/refdes_no_data_in_cassandra.csv', 'wb') as f:\n",
    "    writer = csv.writer(f)\n",
    "    for i in dfc:\n",
    "        writer.writerow([i])"
   ]
  },
  {
   "cell_type": "code",
   "execution_count": 160,
   "metadata": {
    "collapsed": false
   },
   "outputs": [],
   "source": [
    "ooi_data_days = ooi_data.groupby('refdes')['timestamp'].nunique().reset_index(name=\"days_of_data_count\")\n",
    "# add back any ref_des for which no data was found in the system\n",
    "ooi_data_days = pd.concat([ooi_data_days, refdes_streams_df])\n",
    "ooi_data_days = ooi_data_days.fillna(value=0)\n",
    "ooi_data_days = ooi_data_days.groupby('refdes')['days_of_data_count'].sum().reset_index(name='days_of_data_count')"
   ]
  },
  {
   "cell_type": "code",
   "execution_count": 161,
   "metadata": {
    "collapsed": false
   },
   "outputs": [],
   "source": [
    "# count ref_des on platform\n",
    "ooi_data_days['platform'] = ooi_data_days.refdes.str[:8]\n",
    "platform = ooi_data_days.groupby('platform')['refdes'].nunique().reset_index(name=\"inst_on_platform_count\")\n",
    "ooi_data_days = pd.merge(ooi_data_days,platform, on='platform')\n",
    "\n",
    "# count ref_des on array\n",
    "ooi_data_days['array'] = ooi_data_days.refdes.str[:2]\n",
    "array = ooi_data_days.groupby('array')['refdes'].nunique().reset_index(name=\"inst_on_array_count\")\n",
    "ooi_data_days = pd.merge(ooi_data_days,array, on='array')"
   ]
  },
  {
   "cell_type": "code",
   "execution_count": 162,
   "metadata": {
    "collapsed": false
   },
   "outputs": [],
   "source": [
    "# write to csv\n",
    "ooi_data_inst = pd.DataFrame(ooi_data_days, columns = ['refdes', 'days_of_data_count'])\n",
    "ooi_data_inst['inst_percent'] = ooi_data_inst['days_of_data_count'] / days *100\n",
    "ooi_data_inst.to_csv('output/instrument_percent.csv', columns = ['refdes', 'inst_percent'], index=False)"
   ]
  },
  {
   "cell_type": "code",
   "execution_count": 163,
   "metadata": {
    "collapsed": false
   },
   "outputs": [],
   "source": [
    "ooi_data_platform = pd.DataFrame(ooi_data_days, columns = ['platform', 'days_of_data_count','inst_on_platform_count'])\n",
    "ooi_data_platform = ooi_data_platform.groupby(['platform','inst_on_platform_count'])['days_of_data_count'].sum().reset_index(name='days_of_data_count')\n",
    "ooi_data_platform['platform_percent'] = ooi_data_platform['days_of_data_count'] / (days * ooi_data_platform['inst_on_platform_count']) *100\n",
    "ooi_data_platform.to_csv('output/platform_percent.csv', columns = ['platform', 'platform_percent'], index=False)"
   ]
  },
  {
   "cell_type": "code",
   "execution_count": 164,
   "metadata": {
    "collapsed": false
   },
   "outputs": [],
   "source": [
    "ooi_data_array = pd.DataFrame(ooi_data_days, columns = ['array', 'days_of_data_count','inst_on_array_count'])\n",
    "ooi_data_array = ooi_data_array.groupby(['array','inst_on_array_count'])['days_of_data_count'].sum().reset_index(name='days_of_data_count')\n",
    "ooi_data_array['array_percent'] = ooi_data_array['days_of_data_count'] / (days * ooi_data_array['inst_on_array_count']) *100\n",
    "ooi_data_array.to_csv('output/array_percent.csv', columns = ['array', 'array_percent'], index=False)\n"
   ]
  },
  {
   "cell_type": "code",
   "execution_count": null,
   "metadata": {
    "collapsed": true
   },
   "outputs": [],
   "source": []
  }
 ],
 "metadata": {
  "kernelspec": {
   "display_name": "Python 2",
   "language": "python",
   "name": "python2"
  },
  "language_info": {
   "codemirror_mode": {
    "name": "ipython",
    "version": 2
   },
   "file_extension": ".py",
   "mimetype": "text/x-python",
   "name": "python",
   "nbconvert_exporter": "python",
   "pygments_lexer": "ipython2",
   "version": "2.7.13"
  }
 },
 "nbformat": 4,
 "nbformat_minor": 2
}
