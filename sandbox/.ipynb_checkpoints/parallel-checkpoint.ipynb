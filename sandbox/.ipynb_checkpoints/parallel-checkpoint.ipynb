{
 "cells": [
  {
   "cell_type": "code",
   "execution_count": 1,
   "metadata": {
    "collapsed": false
   },
   "outputs": [],
   "source": [
    "import datetime\n",
    "import calendar\n",
    "import requests\n",
    "import json\n",
    "import pandas as pd\n",
    "import concurrent.futures\n",
    "import numpy as np\n",
    "import csv"
   ]
  },
  {
   "cell_type": "code",
   "execution_count": 2,
   "metadata": {
    "collapsed": false
   },
   "outputs": [],
   "source": [
    "username = 'OOIAPI-9N9UMLHV9W5GOP'\n",
    "token = 'SJN6HXHH116OZ8'\n",
    "begin_time_set = datetime.datetime(2017, 6, 28, 0,0,0) \n",
    "refdes_streams = '/Users/knuth/Documents/ooi/repos/github/ooi_stats/sandbox/cabled.csv'"
   ]
  },
  {
   "cell_type": "code",
   "execution_count": 3,
   "metadata": {
    "collapsed": false
   },
   "outputs": [],
   "source": [
    "# setup the base url for the request that will be built using the inputs above.\n",
    "BASE_URL = 'https://ooinet.oceanobservatories.org/api/m2m/12576/sensor/inv/'\n",
    "\n",
    "# request only parameter 7 (time)\n",
    "parameter = '7'\n",
    "\n",
    "# read in csv (for now)\n",
    "refdes_streams_df = pd.read_csv(refdes_streams)"
   ]
  },
  {
   "cell_type": "code",
   "execution_count": 4,
   "metadata": {
    "collapsed": false
   },
   "outputs": [
    {
     "name": "stdout",
     "output_type": "stream",
     "text": [
      "24 days of data since 2017-06-28T00:00:00.000Z will be requested for each refdes+stream.\n"
     ]
    }
   ],
   "source": [
    "# prepare time stamp manipulators and range of data requests\n",
    "begin_time_str = begin_time_set.strftime('%Y-%m-%dT%H:%M:%S.000Z')\n",
    "ntp_epoch = datetime.datetime(1900, 1, 1)\n",
    "unix_epoch = datetime.datetime(1970, 1, 1)\n",
    "ntp_delta = (unix_epoch - ntp_epoch).total_seconds()\n",
    "now = datetime.datetime.now()\n",
    "days = abs(begin_time_set.date() - now.date())\n",
    "days = int(days.days)\n",
    "print(days,\"days of data since\", begin_time_str, \"will be requested for each refdes+stream.\")"
   ]
  },
  {
   "cell_type": "code",
   "execution_count": 5,
   "metadata": {
    "collapsed": false
   },
   "outputs": [],
   "source": [
    "# iterate over reference designators, delivery methods and streams to build request url lists \n",
    "requests_dict = {}\n",
    "for index, row in refdes_streams_df.iterrows():\n",
    "\n",
    "    # start at the begin time set above\n",
    "    begin_time = begin_time_set\n",
    "    begin_time_str = begin_time.strftime('%Y-%m-%dT%H:%M:%S.000Z')\n",
    "    \n",
    "    #step forward by 1 day (86400 seconds) with each new request\n",
    "    end_time = begin_time + datetime.timedelta(seconds=86400)\n",
    "    end_time_str = end_time.strftime('%Y-%m-%dT%H:%M:%S.000Z')\n",
    "\n",
    "    ref_des =  row['refdes']\n",
    "    sub_site = ref_des[:8]\n",
    "    platform = ref_des[9:14]\n",
    "    instrument = ref_des[15:27]\n",
    "    stream = row['stream']\n",
    "    delivery_method = row['method']\n",
    "    \n",
    "    ref_des_list = []\n",
    "\n",
    "    for i in range(days):\n",
    "        request_url = '/'.join((BASE_URL, sub_site, platform, instrument, delivery_method, stream))\n",
    "        request_url = request_url+'?beginDT='+begin_time_str+'&endDT='+end_time_str+'&limit=1000&parameters='+parameter\n",
    "        \n",
    "        ref_des_list.append(request_url)\n",
    "\n",
    "        begin_time = begin_time + datetime.timedelta(seconds=86400)\n",
    "        begin_time_str = begin_time.strftime('%Y-%m-%dT%H:%M:%S.000Z')\n",
    "        end_time = end_time + datetime.timedelta(seconds=86400)\n",
    "        end_time_str = end_time.strftime('%Y-%m-%dT%H:%M:%S.000Z')\n",
    "        \n",
    "    requests_dict[ref_des] = ref_des_list"
   ]
  },
  {
   "cell_type": "code",
   "execution_count": 6,
   "metadata": {
    "collapsed": true
   },
   "outputs": [],
   "source": [
    "# set up threads pool and execute requests\n",
    "pool = concurrent.futures.ThreadPoolExecutor(max_workers=10)\n",
    "session = requests.session()"
   ]
  },
  {
   "cell_type": "code",
   "execution_count": 7,
   "metadata": {
    "collapsed": false
   },
   "outputs": [],
   "source": [
    "# set up function to send requests\n",
    "def request_data(url,username,token):\n",
    "    auth = (username, token)\n",
    "    return session.get(url,auth=auth)"
   ]
  },
  {
   "cell_type": "code",
   "execution_count": 8,
   "metadata": {
    "collapsed": true
   },
   "outputs": [],
   "source": [
    "# create some empty lists as inputs for your final data frame output\n",
    "ref_des_list = []\n",
    "stream_list = []\n",
    "timestamp_list = []"
   ]
  },
  {
   "cell_type": "code",
   "execution_count": 9,
   "metadata": {
    "collapsed": false
   },
   "outputs": [
    {
     "name": "stdout",
     "output_type": "stream",
     "text": [
      "RS01SBPD-DP01A-01-CTDPFL104\n",
      "RS01SBPD-DP01A-02-VEL3DA103\n",
      "RS01SBPD-DP01A-03-FLCDRA102\n",
      "RS01SBPD-DP01A-04-FLNTUA102\n",
      "RS01SBPD-DP01A-05-OPTAAC102\n",
      "RS01SBPD-DP01A-06-DOSTAD104\n",
      "RS01SBPS-PC01A-05-ADCPTD102\n",
      "RS01SBPS-PC01A-06-VADCPA101\n",
      "RS01SBPS-PC01A-4A-CTDPFA103\n",
      "RS01SBPS-PC01A-4A-DOSTAD103\n",
      "RS01SBPS-PC01A-4B-PHSENA102\n",
      "RS01SBPS-PC01A-4C-FLORDD103\n",
      "RS01SBPS-SF01A-2A-CTDPFA102\n",
      "RS01SBPS-SF01A-2A-DOFSTA102\n",
      "RS01SBPS-SF01A-2D-PHSENA101\n",
      "RS01SBPS-SF01A-3A-FLORTD101\n",
      "RS01SBPS-SF01A-3B-OPTAAD101\n",
      "RS01SBPS-SF01A-3C-PARADA101\n",
      "RS01SBPS-SF01A-3D-SPKIRA101\n",
      "RS01SBPS-SF01A-4A-NUTNRA101\n",
      "RS01SBPS-SF01A-4B-VELPTD102\n",
      "RS01SBPS-SF01A-4F-PCO2WA101\n",
      "RS01SLBS-LJ01A-05-HPIESA101\n",
      "RS01SLBS-LJ01A-10-ADCPTE101\n",
      "RS01SLBS-LJ01A-11-OPTAAC103\n",
      "RS01SLBS-LJ01A-12-CTDPFB101\n",
      "RS01SLBS-LJ01A-12-DOSTAD101\n",
      "RS01SLBS-MJ01A-06-PRESTA101\n",
      "RS01SLBS-MJ01A-12-VEL3DB101\n",
      "RS01SUM1-LJ01B-09-PRESTB102\n",
      "RS01SUM1-LJ01B-12-VEL3DB104\n",
      "RS01SUM2-MJ01B-00-FLOBNC101\n",
      "RS01SUM2-MJ01B-00-FLOBNM101\n",
      "RS01SUM2-MJ01B-00-OSMOIA101\n",
      "RS01SUM2-MJ01B-06-MASSPA101\n",
      "RS01SUM2-MJ01B-12-ADCPSK101\n",
      "RS03ASHS-MJ03B-00-OSMOIA301\n",
      "RS03ASHS-MJ03B-07-TMPSFA301\n",
      "RS03AXBS-LJ03A-05-HPIESA301\n",
      "RS03AXBS-LJ03A-10-ADCPTE303\n",
      "RS03AXBS-LJ03A-11-OPTAAC303\n",
      "RS03AXBS-LJ03A-12-CTDPFB301\n",
      "RS03AXBS-LJ03A-12-DOSTAD301\n",
      "RS03AXBS-MJ03A-06-PRESTA301\n",
      "RS03AXBS-MJ03A-12-VEL3DB301\n",
      "RS03AXPD-DP03A-01-CTDPFL304\n",
      "RS03AXPD-DP03A-02-VEL3DA303\n",
      "RS03AXPD-DP03A-03-FLCDRA302\n",
      "RS03AXPD-DP03A-03-FLNTUA302\n",
      "RS03AXPD-DP03A-05-OPTAAC302\n",
      "RS03AXPD-DP03A-06-DOSTAD304\n",
      "RS03AXPS-PC03A-05-ADCPTD302\n",
      "RS03AXPS-PC03A-06-VADCPA301\n",
      "RS03AXPS-PC03A-4A-CTDPFA303\n",
      "RS03AXPS-PC03A-4A-DOSTAD303\n",
      "RS03AXPS-PC03A-4B-PHSENA302\n",
      "RS03AXPS-PC03A-4C-FLORDD303\n",
      "RS03AXPS-SF03A-2A-CTDPFA302\n",
      "RS03AXPS-SF03A-2A-DOFSTA302\n",
      "RS03AXPS-SF03A-2D-PHSENA301\n",
      "RS03AXPS-SF03A-3A-FLORTD301\n",
      "RS03AXPS-SF03A-3B-OPTAAD301\n",
      "RS03AXPS-SF03A-3C-PARADA301\n",
      "RS03AXPS-SF03A-3D-SPKIRA301\n",
      "RS03AXPS-SF03A-4A-NUTNRA301\n",
      "RS03AXPS-SF03A-4B-VELPTD302\n",
      "RS03AXPS-SF03A-4F-PCO2WA301\n",
      "RS03CCAL-MJ03F-05-BOTPTA301\n",
      "RS03ECAL-MJ03E-06-BOTPTA302\n",
      "RS03INT1-MJ03C-06-MASSPA301\n",
      "RS03INT1-MJ03C-07-PPSDNA301\n",
      "RS03INT1-MJ03C-07-RASFLA301\n",
      "RS03INT1-MJ03C-09-THSPHA301\n",
      "RS03INT1-MJ03C-10-TRHPHA301\n",
      "RS03INT2-MJ03D-06-BOTPTA303\n",
      "RS03INT2-MJ03D-12-VEL3DB304\n",
      "CPU times: user 8.44 s, sys: 887 ms, total: 9.33 s\n",
      "Wall time: 3min 11s\n"
     ]
    }
   ],
   "source": [
    "%%time\n",
    "for key, values in requests_dict.items():\n",
    "    print(key)\n",
    "    future_to_url = {pool.submit(request_data, url, username, token): url for url in values}\n",
    "    for future in concurrent.futures.as_completed(future_to_url):\n",
    "        url = future_to_url[future]\n",
    "        try:    \n",
    "            data = future.result()\n",
    "            data = data.json()\n",
    "            stream = data[0]['pk']['stream']\n",
    "            timestamp = data[0]['time']\n",
    "            timestamp = datetime.datetime.utcfromtimestamp(timestamp - ntp_delta).replace(microsecond=0)\n",
    "            timestamp = timestamp.date()\n",
    "#             print(timestamp)\n",
    "\n",
    "            ref_des_list.append(key)\n",
    "            stream_list.append(stream)\n",
    "            timestamp_list.append(timestamp)\n",
    "            \n",
    "        except:\n",
    "            data = future.result()\n",
    "#             data = data.json()\n",
    "#             print(data['status'])"
   ]
  },
  {
   "cell_type": "code",
   "execution_count": 10,
   "metadata": {
    "collapsed": false
   },
   "outputs": [],
   "source": [
    "# convert lists to data frame\n",
    "data_dict = {\n",
    "    'refdes':ref_des_list,\n",
    "    'stream':stream_list,\n",
    "    'timestamp':timestamp_list}\n",
    "ooi_data = pd.DataFrame(data_dict, columns = ['refdes', 'stream', 'timestamp'])\n",
    "# ooi_data = ooi_data.drop_duplicates()\n",
    "ooi_data = ooi_data[ooi_data.timestamp >= begin_time_set.date()]"
   ]
  },
  {
   "cell_type": "code",
   "execution_count": 11,
   "metadata": {
    "collapsed": false
   },
   "outputs": [],
   "source": [
    "# add back any refdes for which no data was returned\n",
    "dfa = ooi_data.drop(['timestamp'],axis = 1)\n",
    "dfa = dfa['refdes'].values\n",
    "dfb = refdes_streams_df['refdes'].values\n",
    "dfc = list(set(dfb) - set(dfa))\n",
    "dfc = pd.DataFrame(dfc,columns=['refdes'])"
   ]
  },
  {
   "cell_type": "code",
   "execution_count": 12,
   "metadata": {
    "collapsed": false
   },
   "outputs": [],
   "source": [
    "dfa = ooi_data.drop(['timestamp'],axis = 1)\n",
    "dfd = dfa[\"refdes\"].map(str) + '-' + dfa[\"stream\"]\n",
    "dfe = refdes_streams_df['refdes'].map(str) + '-' + refdes_streams_df[\"stream\"]\n",
    "dfe = list(set(dfe) - set(dfd))\n",
    "dfe = pd.DataFrame(dfe,columns=['refdes'])\n",
    "dfe = dfe.rename(index=str, columns={'refdes':'stream'})"
   ]
  },
  {
   "cell_type": "code",
   "execution_count": 13,
   "metadata": {
    "collapsed": false
   },
   "outputs": [],
   "source": [
    "#write time table for all streams to file\n",
    "timetable_streams = ooi_data\n",
    "timetable_streams[\"stream\"] = timetable_streams[\"refdes\"].map(str) + '-' + timetable_streams[\"stream\"]\n",
    "timetable_streams = timetable_streams.drop(['refdes'],axis =1)\n",
    "timetable_streams = pd.concat([timetable_streams, dfe])\n",
    "timetable_streams['data'] = timetable_streams['timestamp'].notnull()\n",
    "timetable_streams = timetable_streams.drop_duplicates()\n",
    "timetable_streams = timetable_streams.pivot(index='stream', columns='timestamp', values='data')\n",
    "timetable_streams.to_csv('output/timetable_streams.csv', index=True)"
   ]
  },
  {
   "cell_type": "code",
   "execution_count": 14,
   "metadata": {
    "collapsed": false
   },
   "outputs": [],
   "source": [
    "# df = timetable_streams[timetable_streams.duplicated(keep=False)]"
   ]
  },
  {
   "cell_type": "code",
   "execution_count": 16,
   "metadata": {
    "collapsed": false
   },
   "outputs": [
    {
     "ename": "ValueError",
     "evalue": "Index contains duplicate entries, cannot reshape",
     "output_type": "error",
     "traceback": [
      "\u001b[0;31m---------------------------------------------------------------------------\u001b[0m",
      "\u001b[0;31mValueError\u001b[0m                                Traceback (most recent call last)",
      "\u001b[0;32m<ipython-input-16-cc347da45af3>\u001b[0m in \u001b[0;36m<module>\u001b[0;34m()\u001b[0m\n\u001b[1;32m      2\u001b[0m \u001b[0mtimetable_refdes\u001b[0m \u001b[0;34m=\u001b[0m \u001b[0mpd\u001b[0m\u001b[0;34m.\u001b[0m\u001b[0mconcat\u001b[0m\u001b[0;34m(\u001b[0m\u001b[0;34m[\u001b[0m\u001b[0mooi_data\u001b[0m\u001b[0;34m,\u001b[0m \u001b[0mdfc\u001b[0m\u001b[0;34m]\u001b[0m\u001b[0;34m)\u001b[0m\u001b[0;34m\u001b[0m\u001b[0m\n\u001b[1;32m      3\u001b[0m \u001b[0mtimetable_refdes\u001b[0m\u001b[0;34m[\u001b[0m\u001b[0;34m'data'\u001b[0m\u001b[0;34m]\u001b[0m \u001b[0;34m=\u001b[0m \u001b[0mtimetable_refdes\u001b[0m\u001b[0;34m[\u001b[0m\u001b[0;34m'timestamp'\u001b[0m\u001b[0;34m]\u001b[0m\u001b[0;34m.\u001b[0m\u001b[0mnotnull\u001b[0m\u001b[0;34m(\u001b[0m\u001b[0;34m)\u001b[0m\u001b[0;34m\u001b[0m\u001b[0m\n\u001b[0;32m----> 4\u001b[0;31m \u001b[0mtimetable_refdes\u001b[0m \u001b[0;34m=\u001b[0m \u001b[0mtimetable_refdes\u001b[0m\u001b[0;34m.\u001b[0m\u001b[0mpivot\u001b[0m\u001b[0;34m(\u001b[0m\u001b[0mindex\u001b[0m\u001b[0;34m=\u001b[0m\u001b[0;34m'refdes'\u001b[0m\u001b[0;34m,\u001b[0m \u001b[0mcolumns\u001b[0m\u001b[0;34m=\u001b[0m\u001b[0;34m'timestamp'\u001b[0m\u001b[0;34m,\u001b[0m \u001b[0mvalues\u001b[0m\u001b[0;34m=\u001b[0m\u001b[0;34m'data'\u001b[0m\u001b[0;34m)\u001b[0m\u001b[0;34m\u001b[0m\u001b[0m\n\u001b[0m\u001b[1;32m      5\u001b[0m \u001b[0mtimetable_refdes\u001b[0m\u001b[0;34m.\u001b[0m\u001b[0mto_csv\u001b[0m\u001b[0;34m(\u001b[0m\u001b[0;34m'output/timetable_refdes.csv'\u001b[0m\u001b[0;34m,\u001b[0m \u001b[0mindex\u001b[0m\u001b[0;34m=\u001b[0m\u001b[0;32mTrue\u001b[0m\u001b[0;34m)\u001b[0m\u001b[0;34m\u001b[0m\u001b[0m\n",
      "\u001b[0;32m~/miniconda2/envs/py36/lib/python3.6/site-packages/pandas/core/frame.py\u001b[0m in \u001b[0;36mpivot\u001b[0;34m(self, index, columns, values)\u001b[0m\n\u001b[1;32m   3851\u001b[0m         \"\"\"\n\u001b[1;32m   3852\u001b[0m         \u001b[0;32mfrom\u001b[0m \u001b[0mpandas\u001b[0m\u001b[0;34m.\u001b[0m\u001b[0mcore\u001b[0m\u001b[0;34m.\u001b[0m\u001b[0mreshape\u001b[0m\u001b[0;34m.\u001b[0m\u001b[0mreshape\u001b[0m \u001b[0;32mimport\u001b[0m \u001b[0mpivot\u001b[0m\u001b[0;34m\u001b[0m\u001b[0m\n\u001b[0;32m-> 3853\u001b[0;31m         \u001b[0;32mreturn\u001b[0m \u001b[0mpivot\u001b[0m\u001b[0;34m(\u001b[0m\u001b[0mself\u001b[0m\u001b[0;34m,\u001b[0m \u001b[0mindex\u001b[0m\u001b[0;34m=\u001b[0m\u001b[0mindex\u001b[0m\u001b[0;34m,\u001b[0m \u001b[0mcolumns\u001b[0m\u001b[0;34m=\u001b[0m\u001b[0mcolumns\u001b[0m\u001b[0;34m,\u001b[0m \u001b[0mvalues\u001b[0m\u001b[0;34m=\u001b[0m\u001b[0mvalues\u001b[0m\u001b[0;34m)\u001b[0m\u001b[0;34m\u001b[0m\u001b[0m\n\u001b[0m\u001b[1;32m   3854\u001b[0m \u001b[0;34m\u001b[0m\u001b[0m\n\u001b[1;32m   3855\u001b[0m     \u001b[0;32mdef\u001b[0m \u001b[0mstack\u001b[0m\u001b[0;34m(\u001b[0m\u001b[0mself\u001b[0m\u001b[0;34m,\u001b[0m \u001b[0mlevel\u001b[0m\u001b[0;34m=\u001b[0m\u001b[0;34m-\u001b[0m\u001b[0;36m1\u001b[0m\u001b[0;34m,\u001b[0m \u001b[0mdropna\u001b[0m\u001b[0;34m=\u001b[0m\u001b[0;32mTrue\u001b[0m\u001b[0;34m)\u001b[0m\u001b[0;34m:\u001b[0m\u001b[0;34m\u001b[0m\u001b[0m\n",
      "\u001b[0;32m~/miniconda2/envs/py36/lib/python3.6/site-packages/pandas/core/reshape/reshape.py\u001b[0m in \u001b[0;36mpivot\u001b[0;34m(self, index, columns, values)\u001b[0m\n\u001b[1;32m    376\u001b[0m         indexed = Series(self[values].values,\n\u001b[1;32m    377\u001b[0m                          index=MultiIndex.from_arrays([index, self[columns]]))\n\u001b[0;32m--> 378\u001b[0;31m         \u001b[0;32mreturn\u001b[0m \u001b[0mindexed\u001b[0m\u001b[0;34m.\u001b[0m\u001b[0munstack\u001b[0m\u001b[0;34m(\u001b[0m\u001b[0mcolumns\u001b[0m\u001b[0;34m)\u001b[0m\u001b[0;34m\u001b[0m\u001b[0m\n\u001b[0m\u001b[1;32m    379\u001b[0m \u001b[0;34m\u001b[0m\u001b[0m\n\u001b[1;32m    380\u001b[0m \u001b[0;34m\u001b[0m\u001b[0m\n",
      "\u001b[0;32m~/miniconda2/envs/py36/lib/python3.6/site-packages/pandas/core/series.py\u001b[0m in \u001b[0;36munstack\u001b[0;34m(self, level, fill_value)\u001b[0m\n\u001b[1;32m   2026\u001b[0m         \"\"\"\n\u001b[1;32m   2027\u001b[0m         \u001b[0;32mfrom\u001b[0m \u001b[0mpandas\u001b[0m\u001b[0;34m.\u001b[0m\u001b[0mcore\u001b[0m\u001b[0;34m.\u001b[0m\u001b[0mreshape\u001b[0m\u001b[0;34m.\u001b[0m\u001b[0mreshape\u001b[0m \u001b[0;32mimport\u001b[0m \u001b[0munstack\u001b[0m\u001b[0;34m\u001b[0m\u001b[0m\n\u001b[0;32m-> 2028\u001b[0;31m         \u001b[0;32mreturn\u001b[0m \u001b[0munstack\u001b[0m\u001b[0;34m(\u001b[0m\u001b[0mself\u001b[0m\u001b[0;34m,\u001b[0m \u001b[0mlevel\u001b[0m\u001b[0;34m,\u001b[0m \u001b[0mfill_value\u001b[0m\u001b[0;34m)\u001b[0m\u001b[0;34m\u001b[0m\u001b[0m\n\u001b[0m\u001b[1;32m   2029\u001b[0m \u001b[0;34m\u001b[0m\u001b[0m\n\u001b[1;32m   2030\u001b[0m     \u001b[0;31m# ----------------------------------------------------------------------\u001b[0m\u001b[0;34m\u001b[0m\u001b[0;34m\u001b[0m\u001b[0m\n",
      "\u001b[0;32m~/miniconda2/envs/py36/lib/python3.6/site-packages/pandas/core/reshape/reshape.py\u001b[0m in \u001b[0;36munstack\u001b[0;34m(obj, level, fill_value)\u001b[0m\n\u001b[1;32m    456\u001b[0m     \u001b[0;32melse\u001b[0m\u001b[0;34m:\u001b[0m\u001b[0;34m\u001b[0m\u001b[0m\n\u001b[1;32m    457\u001b[0m         unstacker = _Unstacker(obj.values, obj.index, level=level,\n\u001b[0;32m--> 458\u001b[0;31m                                fill_value=fill_value)\n\u001b[0m\u001b[1;32m    459\u001b[0m         \u001b[0;32mreturn\u001b[0m \u001b[0munstacker\u001b[0m\u001b[0;34m.\u001b[0m\u001b[0mget_result\u001b[0m\u001b[0;34m(\u001b[0m\u001b[0;34m)\u001b[0m\u001b[0;34m\u001b[0m\u001b[0m\n\u001b[1;32m    460\u001b[0m \u001b[0;34m\u001b[0m\u001b[0m\n",
      "\u001b[0;32m~/miniconda2/envs/py36/lib/python3.6/site-packages/pandas/core/reshape/reshape.py\u001b[0m in \u001b[0;36m__init__\u001b[0;34m(self, values, index, level, value_columns, fill_value)\u001b[0m\n\u001b[1;32m    108\u001b[0m \u001b[0;34m\u001b[0m\u001b[0m\n\u001b[1;32m    109\u001b[0m         \u001b[0mself\u001b[0m\u001b[0;34m.\u001b[0m\u001b[0m_make_sorted_values_labels\u001b[0m\u001b[0;34m(\u001b[0m\u001b[0;34m)\u001b[0m\u001b[0;34m\u001b[0m\u001b[0m\n\u001b[0;32m--> 110\u001b[0;31m         \u001b[0mself\u001b[0m\u001b[0;34m.\u001b[0m\u001b[0m_make_selectors\u001b[0m\u001b[0;34m(\u001b[0m\u001b[0;34m)\u001b[0m\u001b[0;34m\u001b[0m\u001b[0m\n\u001b[0m\u001b[1;32m    111\u001b[0m \u001b[0;34m\u001b[0m\u001b[0m\n\u001b[1;32m    112\u001b[0m     \u001b[0;32mdef\u001b[0m \u001b[0m_make_sorted_values_labels\u001b[0m\u001b[0;34m(\u001b[0m\u001b[0mself\u001b[0m\u001b[0;34m)\u001b[0m\u001b[0;34m:\u001b[0m\u001b[0;34m\u001b[0m\u001b[0m\n",
      "\u001b[0;32m~/miniconda2/envs/py36/lib/python3.6/site-packages/pandas/core/reshape/reshape.py\u001b[0m in \u001b[0;36m_make_selectors\u001b[0;34m(self)\u001b[0m\n\u001b[1;32m    146\u001b[0m \u001b[0;34m\u001b[0m\u001b[0m\n\u001b[1;32m    147\u001b[0m         \u001b[0;32mif\u001b[0m \u001b[0mmask\u001b[0m\u001b[0;34m.\u001b[0m\u001b[0msum\u001b[0m\u001b[0;34m(\u001b[0m\u001b[0;34m)\u001b[0m \u001b[0;34m<\u001b[0m \u001b[0mlen\u001b[0m\u001b[0;34m(\u001b[0m\u001b[0mself\u001b[0m\u001b[0;34m.\u001b[0m\u001b[0mindex\u001b[0m\u001b[0;34m)\u001b[0m\u001b[0;34m:\u001b[0m\u001b[0;34m\u001b[0m\u001b[0m\n\u001b[0;32m--> 148\u001b[0;31m             raise ValueError('Index contains duplicate entries, '\n\u001b[0m\u001b[1;32m    149\u001b[0m                              'cannot reshape')\n\u001b[1;32m    150\u001b[0m \u001b[0;34m\u001b[0m\u001b[0m\n",
      "\u001b[0;31mValueError\u001b[0m: Index contains duplicate entries, cannot reshape"
     ]
    }
   ],
   "source": [
    "#write time table for all instruments to file\n",
    "timetable_refdes = pd.concat([ooi_data, dfc])\n",
    "timetable_refdes['data'] = timetable_refdes['timestamp'].notnull()\n",
    "timetable_refdes = timetable_refdes.drop_duplicates()\n",
    "timetable_refdes = timetable_refdes.pivot(index='refdes', columns='timestamp', values='data')\n",
    "timetable_refdes.to_csv('output/timetable_refdes.csv', index=True)"
   ]
  },
  {
   "cell_type": "code",
   "execution_count": null,
   "metadata": {
    "collapsed": false
   },
   "outputs": [],
   "source": [
    "#write time table for all nodes to file\n",
    "timetable_node = pd.concat([ooi_data, dfc])\n",
    "timetable_node['data'] = timetable_node['timestamp'].notnull()\n",
    "timetable_node['node'] = timetable_node['refdes'].str[:14]\n",
    "timetable_node = timetable_node.drop(['refdes','stream'],axis = 1)\n",
    "timetable_node = timetable_node.drop_duplicates()\n",
    "timetable_node = timetable_node.pivot(index='node', columns='timestamp', values='data')\n",
    "timetable_node.to_csv('output/timetable_node.csv', index=True)"
   ]
  },
  {
   "cell_type": "code",
   "execution_count": null,
   "metadata": {
    "collapsed": false
   },
   "outputs": [],
   "source": [
    "#write time table for all platforms to file\n",
    "timetable_platform = pd.concat([ooi_data, dfc])\n",
    "timetable_platform['data'] = timetable_platform['timestamp'].notnull()\n",
    "timetable_platform['platform'] = timetable_platform['refdes'].str[:8]\n",
    "timetable_platform = timetable_platform.drop(['refdes','stream'],axis = 1)\n",
    "timetable_platform = timetable_platform.drop_duplicates()\n",
    "timetable_platform = timetable_platform.pivot(index='platform', columns='timestamp', values='data')\n",
    "timetable_platform.to_csv('output/timetable_platform.csv', index=True)"
   ]
  },
  {
   "cell_type": "code",
   "execution_count": null,
   "metadata": {
    "collapsed": false
   },
   "outputs": [],
   "source": [
    "# calculate month stats based on total days of data requestes\n",
    "timetable_months = pd.concat([ooi_data, dfc])\n",
    "timetable_months['timestamp'] = pd.to_datetime(timetable_months['timestamp'])\n",
    "timetable_months['month'] = timetable_months['timestamp'].dt.strftime('%Y-%m')\n",
    "timetable_months = timetable_months.groupby(['refdes', 'month'])['timestamp'].nunique().reset_index(name=\"days_of_data\")\n",
    "\n",
    "# create denominator\n",
    "def to_integer(dt_time):\n",
    "    return 10000*dt_time.year + 100*dt_time.month + dt_time.day\n",
    "\n",
    "def diff_month(d1, d2):\n",
    "    return (d1.year - d2.year) * 12 + d1.month - d2.month\n",
    "\n",
    "periods = diff_month(now.date(),begin_time_set.date())\n",
    "start_time = to_integer(begin_time_set)\n",
    "\n",
    "total_months = pd.DataFrame({'date' : pd.date_range(str(start_time),periods=periods,freq='M') })\n",
    "total_months['year'] = total_months['date'].dt.year\n",
    "total_months['month'] = total_months['date'].dt.month\n",
    "total_months['days_in_month'] = total_months.apply(lambda x: calendar.monthrange(x['year'],x['month'])[1], axis=1)\n",
    "total_months['month'] = total_months['date'].dt.strftime('%Y-%m')\n",
    "total_months = total_months[['month','days_in_month']]\n",
    "\n",
    "timetable_months = pd.merge(timetable_months, total_months, on='month', how='outer')\n",
    "timetable_months['percent'] = timetable_months['days_of_data'] / timetable_months['days_in_month']\n",
    "timetable_months = timetable_months.pivot(index='refdes', columns='month', values='percent')\n",
    "timetable_months.to_csv('output/timetable_months_percent.csv', index=True)"
   ]
  },
  {
   "cell_type": "code",
   "execution_count": null,
   "metadata": {
    "collapsed": true
   },
   "outputs": [],
   "source": []
  },
  {
   "cell_type": "code",
   "execution_count": null,
   "metadata": {
    "collapsed": true
   },
   "outputs": [],
   "source": []
  }
 ],
 "metadata": {
  "kernelspec": {
   "display_name": "Python 3",
   "language": "python",
   "name": "python3"
  },
  "language_info": {
   "codemirror_mode": {
    "name": "ipython",
    "version": 3
   },
   "file_extension": ".py",
   "mimetype": "text/x-python",
   "name": "python",
   "nbconvert_exporter": "python",
   "pygments_lexer": "ipython3",
   "version": "3.6.2"
  }
 },
 "nbformat": 4,
 "nbformat_minor": 2
}
