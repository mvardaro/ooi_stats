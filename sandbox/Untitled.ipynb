{
 "cells": [
  {
   "cell_type": "code",
   "execution_count": 119,
   "metadata": {
    "collapsed": true
   },
   "outputs": [],
   "source": [
    "import pandas as pd"
   ]
  },
  {
   "cell_type": "code",
   "execution_count": 161,
   "metadata": {
    "collapsed": false
   },
   "outputs": [],
   "source": [
    "data_file = '/Users/knuth/Documents/ooi/repos/github/ooi_stats/output/overall_stats/'+array+'/data.csv'\n",
    "deployment_file = '/Users/knuth/Documents/ooi/repos/github/ooi_stats/output/overall_stats/'+array+'/deployment_data.csv'\n",
    "data = pd.read_csv(data_file)\n",
    "data['date'] = pd.to_datetime(data['date']).dt.date\n",
    "data['value'] = 1\n",
    "deployment_file_df = pd.read_csv(deployment_file)\n",
    "deployment_file_df['date'] = pd.to_datetime(deployment_file_df['date']).dt.date"
   ]
  },
  {
   "cell_type": "code",
   "execution_count": 179,
   "metadata": {
    "collapsed": true
   },
   "outputs": [],
   "source": [
    "cabled_csv = '/Users/knuth/Documents/ooi/repos/github/ooi_stats/output/overall_stats/cabled/cabled_refdes_stats_data.csv'\n",
    "global_csv = '/Users/knuth/Documents/ooi/repos/github/ooi_stats/output/overall_stats/global/global_refdes_stats_data.csv'\n",
    "pioneer_csv ='/Users/knuth/Documents/ooi/repos/github/ooi_stats/output/overall_stats/pioneer/pioneer_refdes_stats_data.csv'\n",
    "endurance_csv = '/Users/knuth/Documents/ooi/repos/github/ooi_stats/output/overall_stats/endurance/endurance_refdes_stats_data.csv'"
   ]
  },
  {
   "cell_type": "code",
   "execution_count": 180,
   "metadata": {
    "collapsed": false
   },
   "outputs": [],
   "source": [
    "cabled_df = pd.read_csv(cabled_csv)\n",
    "global_df = pd.read_csv(global_csv)\n",
    "pioneer_df = pd.read_csv(pioneer_csv)\n",
    "endurance_df = pd.read_csv(endurance_csv)"
   ]
  },
  {
   "cell_type": "code",
   "execution_count": 186,
   "metadata": {
    "collapsed": false
   },
   "outputs": [],
   "source": [
    "final = pd.concat([global_df,cabled_df,pioneer_df,endurance_df]).sort_values(by=['refdes','date'])"
   ]
  },
  {
   "cell_type": "code",
   "execution_count": 188,
   "metadata": {
    "collapsed": false
   },
   "outputs": [],
   "source": [
    "final.to_csv('refdes.csv',index=False)"
   ]
  },
  {
   "cell_type": "code",
   "execution_count": 189,
   "metadata": {
    "collapsed": false
   },
   "outputs": [
    {
     "name": "stdout",
     "output_type": "stream",
     "text": [
      "120400\n",
      "361112\n",
      "108414\n",
      "137589\n"
     ]
    }
   ],
   "source": [
    "print(len(cabled_df))\n",
    "print(len(global_df))\n",
    "print(len(pioneer_df))\n",
    "print(len(endurance_df))"
   ]
  },
  {
   "cell_type": "code",
   "execution_count": 190,
   "metadata": {
    "collapsed": false
   },
   "outputs": [
    {
     "data": {
      "text/plain": [
       "727515"
      ]
     },
     "execution_count": 190,
     "metadata": {},
     "output_type": "execute_result"
    }
   ],
   "source": [
    "len(cabled_df)+len(global_df)+len(pioneer_df)+len(endurance_df)"
   ]
  },
  {
   "cell_type": "code",
   "execution_count": 191,
   "metadata": {
    "collapsed": false
   },
   "outputs": [
    {
     "data": {
      "text/plain": [
       "727515"
      ]
     },
     "execution_count": 191,
     "metadata": {},
     "output_type": "execute_result"
    }
   ],
   "source": [
    "len(final)"
   ]
  },
  {
   "cell_type": "code",
   "execution_count": null,
   "metadata": {
    "collapsed": true
   },
   "outputs": [],
   "source": []
  }
 ],
 "metadata": {
  "kernelspec": {
   "display_name": "stats",
   "language": "python",
   "name": "stats"
  },
  "language_info": {
   "codemirror_mode": {
    "name": "ipython",
    "version": 3
   },
   "file_extension": ".py",
   "mimetype": "text/x-python",
   "name": "python",
   "nbconvert_exporter": "python",
   "pygments_lexer": "ipython3",
   "version": "3.5.4"
  }
 },
 "nbformat": 4,
 "nbformat_minor": 2
}
