{
 "cells": [
  {
   "cell_type": "code",
   "execution_count": 199,
   "metadata": {
    "collapsed": false
   },
   "outputs": [],
   "source": [
    "import pandas as pd\n",
    "import datetime\n",
    "import calendar\n",
    "import copy"
   ]
  },
  {
   "cell_type": "code",
   "execution_count": 200,
   "metadata": {
    "collapsed": true
   },
   "outputs": [],
   "source": [
    "# read in data\n",
    "array = 'cabled'\n",
    "data_file = '/Users/knuth/Documents/ooi/repos/github/ooi_stats/output/'+array+'/data.csv'\n",
    "refdes_streams = '/Users/knuth/Documents/ooi/repos/github/ooi_stats/input/'+array+'.csv'\n",
    "data = pd.read_csv(data_file)\n",
    "refdes_streams_df = pd.read_csv(refdes_streams)\n",
    "\n",
    "now = datetime.datetime.now()\n",
    "begin_time_set = datetime.datetime(2013, 7, 1, 0,0,0)"
   ]
  },
  {
   "cell_type": "code",
   "execution_count": 201,
   "metadata": {
    "collapsed": true
   },
   "outputs": [],
   "source": [
    "# extract only refdes and drop duplicated timestamps from multiple streams\n",
    "data = pd.DataFrame(data, columns=['refdes', 'timestamp'])\n",
    "data = data.drop_duplicates()\n",
    "refdes_streams_df = pd.DataFrame(refdes_streams_df, columns=['refdes'])"
   ]
  },
  {
   "cell_type": "code",
   "execution_count": 202,
   "metadata": {
    "collapsed": true
   },
   "outputs": [],
   "source": [
    "# append refdes for which no data was returned\n",
    "data_temp = pd.DataFrame(data, columns=['refdes'])\n",
    "data_temp = list(set(refdes_streams_df['refdes'].values) - set(data_temp['refdes'].values))\n",
    "data_temp = pd.DataFrame(data_temp,columns=['refdes'])\n",
    "data = pd.concat([data, data_temp])"
   ]
  },
  {
   "cell_type": "code",
   "execution_count": 203,
   "metadata": {
    "collapsed": false
   },
   "outputs": [
    {
     "name": "stderr",
     "output_type": "stream",
     "text": [
      "/Users/knuth/miniconda2/envs/py36/lib/python3.6/site-packages/pandas/core/groupby.py:3154: FutureWarning: In the future, NAT != NAT will be True rather than False.\n",
      "  inc = np.r_[1, val[1:] != val[:-1]]\n"
     ]
    }
   ],
   "source": [
    "# calculate month stats based on total days of data requestes\n",
    "timetable_months = data\n",
    "timetable_months['timestamp'] = pd.to_datetime(timetable_months['timestamp'])\n",
    "timetable_months['month'] = timetable_months['timestamp'].dt.strftime('%Y-%m')\n",
    "timetable_months = timetable_months.groupby(['refdes', 'month'])['timestamp'].nunique().reset_index(name=\"days_of_data\")"
   ]
  },
  {
   "cell_type": "code",
   "execution_count": 204,
   "metadata": {
    "collapsed": false
   },
   "outputs": [],
   "source": [
    "# create denominator\n",
    "def to_integer(dt_time):\n",
    "    return 10000*dt_time.year + 100*dt_time.month + dt_time.day\n",
    "\n",
    "def diff_month(d1, d2):\n",
    "    return (d1.year - d2.year) * 12 + d1.month - d2.month\n",
    "\n",
    "periods = diff_month(now.date(),begin_time_set.date())\n",
    "start_time = to_integer(begin_time_set)"
   ]
  },
  {
   "cell_type": "code",
   "execution_count": 205,
   "metadata": {
    "collapsed": false
   },
   "outputs": [],
   "source": [
    "total_months = pd.DataFrame({'date' : pd.date_range(str(start_time),periods=periods,freq='M') })\n",
    "total_months['year'] = total_months['date'].dt.year\n",
    "total_months['month'] = total_months['date'].dt.month\n",
    "total_months['days_in_month'] = total_months.apply(lambda x: calendar.monthrange(x['year'],x['month'])[1], axis=1)\n",
    "total_months['month'] = total_months['date'].dt.strftime('%Y-%m')\n",
    "total_months = total_months[['month','days_in_month']]\n",
    "\n",
    "timetable_months = pd.merge(timetable_months, total_months, on='month', how='outer')"
   ]
  },
  {
   "cell_type": "code",
   "execution_count": 206,
   "metadata": {
    "collapsed": false
   },
   "outputs": [],
   "source": [
    "# create monthly percent by reference designator\n",
    "timetable_months_refdes = copy.deepcopy(timetable_months)\n",
    "timetable_months_refdes['percent'] = timetable_months_refdes['days_of_data'] / timetable_months_refdes['days_in_month']\n",
    "timetable_months_refdes = timetable_months_refdes.pivot(index='refdes', columns='month', values='percent')\n",
    "timetable_months_refdes.to_csv('test_output/'+array+'/stats/timetable_refdes_monthly.csv', index=True)"
   ]
  },
  {
   "cell_type": "code",
   "execution_count": 207,
   "metadata": {
    "collapsed": false
   },
   "outputs": [],
   "source": [
    "# create monthly percentages by node\n",
    "timetable_months_node = copy.deepcopy(timetable_months)\n",
    "timetable_months_node['node'] = timetable_months_node['refdes'].str[:14]\n",
    "node = timetable_months_node.groupby('node')['refdes'].nunique().reset_index(name=\"inst_on_node_count\")\n",
    "timetable_months_node = pd.merge(timetable_months_node,node, on='node')"
   ]
  },
  {
   "cell_type": "code",
   "execution_count": 208,
   "metadata": {
    "collapsed": false
   },
   "outputs": [],
   "source": [
    "timetable_months_node['refdes_percent'] = timetable_months_node['days_of_data'] / timetable_months_node['days_in_month']\n",
    "node_percent = timetable_months_node.groupby(['node','month'])['refdes_percent'].sum().reset_index(name=\"percent_node\")\n",
    "timetable_months_node =  pd.merge(timetable_months_node,node_percent, on=['node','month'])\n",
    "timetable_months_node = pd.DataFrame(timetable_months_node, columns=['month','node','inst_on_node_count','percent_node'])\n",
    "timetable_months_node['percent_node'] = timetable_months_node['percent_node'] / timetable_months_node['inst_on_node_count']\n",
    "timetable_months_node = timetable_months_node.drop_duplicates()\n",
    "timetable_months_node = timetable_months_node.drop(['inst_on_node_count'],axis=1)\n",
    "timetable_months_node = timetable_months_node.pivot(index='node', columns='month', values='percent_node')\n",
    "timetable_months_node.to_csv('test_output/'+array+'/stats/timetable_node_monthly.csv', index=True)"
   ]
  },
  {
   "cell_type": "code",
   "execution_count": 209,
   "metadata": {
    "collapsed": false
   },
   "outputs": [],
   "source": [
    "# create monthly percentages by platform\n",
    "timetable_months_platform = copy.deepcopy(timetable_months)\n",
    "timetable_months_platform['platform'] = timetable_months_platform['refdes'].str[:8]\n",
    "platform = timetable_months_platform.groupby('platform')['refdes'].nunique().reset_index(name=\"inst_on_platform_count\")\n",
    "timetable_months_platform = pd.merge(timetable_months_platform,platform, on='platform')"
   ]
  },
  {
   "cell_type": "code",
   "execution_count": 210,
   "metadata": {
    "collapsed": false
   },
   "outputs": [],
   "source": [
    "timetable_months_platform['refdes_percent'] = timetable_months_platform['days_of_data'] / timetable_months_platform['days_in_month']\n",
    "platform_percent = timetable_months_platform.groupby(['platform','month'])['refdes_percent'].sum().reset_index(name=\"percent_platform\")\n",
    "timetable_months_platform =  pd.merge(timetable_months_platform,platform_percent, on=['platform','month'])\n",
    "timetable_months_platform = pd.DataFrame(timetable_months_platform, columns=['month','platform','inst_on_platform_count','percent_platform'])\n",
    "timetable_months_platform['percent_platform'] = timetable_months_platform['percent_platform'] / timetable_months_platform['inst_on_platform_count']\n",
    "timetable_months_platform = timetable_months_platform.drop_duplicates()\n",
    "timetable_months_platform = timetable_months_platform.drop(['inst_on_platform_count'],axis=1)\n",
    "timetable_months_platform = timetable_months_platform.pivot(index='platform', columns='month', values='percent_platform')\n",
    "timetable_months_platform.to_csv('test_output/'+array+'/stats/timetable_platform_monthly.csv', index=True)"
   ]
  },
  {
   "cell_type": "code",
   "execution_count": 211,
   "metadata": {
    "collapsed": true
   },
   "outputs": [],
   "source": [
    "# create monthly percentages by array\n",
    "timetable_months_array = copy.deepcopy(timetable_months)\n",
    "timetable_months_array['array'] = timetable_months_array['refdes'].str[:2]\n",
    "array_df = timetable_months_array.groupby('array')['refdes'].nunique().reset_index(name=\"inst_on_array_count\")\n",
    "timetable_months_array = pd.merge(timetable_months_array,array_df, on='array')"
   ]
  },
  {
   "cell_type": "code",
   "execution_count": 212,
   "metadata": {
    "collapsed": false
   },
   "outputs": [],
   "source": [
    "timetable_months_array['refdes_percent'] = timetable_months_array['days_of_data'] / timetable_months_array['days_in_month']\n",
    "array_percent = timetable_months_array.groupby(['array','month'])['refdes_percent'].sum().reset_index(name=\"percent_array\")\n",
    "timetable_months_array =  pd.merge(timetable_months_array,array_percent, on=['array','month'])\n",
    "timetable_months_array = pd.DataFrame(timetable_months_array, columns=['month','array','inst_on_array_count','percent_array'])\n",
    "timetable_months_array['percent_array'] = timetable_months_array['percent_array'] / timetable_months_array['inst_on_array_count']\n",
    "timetable_months_array = timetable_months_array.drop_duplicates()\n",
    "timetable_months_array = timetable_months_array.drop(['inst_on_array_count'],axis=1)\n",
    "timetable_months_array = timetable_months_array.pivot(index='array', columns='month', values='percent_array')\n",
    "timetable_months_array.to_csv('test_output/'+array+'/stats/timetable_array_monthly.csv', index=True)"
   ]
  }
 ],
 "metadata": {
  "kernelspec": {
   "display_name": "Python 3",
   "language": "python",
   "name": "python3"
  },
  "language_info": {
   "codemirror_mode": {
    "name": "ipython",
    "version": 3
   },
   "file_extension": ".py",
   "mimetype": "text/x-python",
   "name": "python",
   "nbconvert_exporter": "python",
   "pygments_lexer": "ipython3",
   "version": "3.6.2"
  }
 },
 "nbformat": 4,
 "nbformat_minor": 2
}
