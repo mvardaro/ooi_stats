{
 "cells": [
  {
   "cell_type": "code",
   "execution_count": 1,
   "metadata": {
    "collapsed": true
   },
   "outputs": [],
   "source": [
    "import requests\n",
    "import json\n",
    "import datetime"
   ]
  },
  {
   "cell_type": "code",
   "execution_count": null,
   "metadata": {
    "collapsed": true
   },
   "outputs": [],
   "source": [
    "# gist\n",
    "\n",
    "'''\n",
    "For every refdes\n",
    "\n",
    "    For every stream\n",
    "\n",
    "        For every day since start day until now\n",
    "\n",
    "            Request day of refdes + stream + pd7\n",
    "\n",
    "                If data in response\n",
    "\n",
    "                    Append refdes + stream + first time stamp within day to data frame\n",
    "\n",
    "                Else request next day\n",
    "\n",
    "Drop stream from data frame and collapse refdes into single entry per day with data\n",
    "\n",
    "Plot time series\n",
    "\n",
    "'''\n"
   ]
  },
  {
   "cell_type": "code",
   "execution_count": null,
   "metadata": {
    "collapsed": true
   },
   "outputs": [],
   "source": [
    "'''\n",
    "TODO - handle exception when no data\n",
    "TODO - append output to data frame\n",
    "TODO - remove stream and collapse by day\n",
    "'''"
   ]
  },
  {
   "cell_type": "code",
   "execution_count": 55,
   "metadata": {
    "collapsed": false
   },
   "outputs": [],
   "source": [
    "USERNAME ='OOIAPI-9N9UMLHV9W5GOP'\n",
    "TOKEN= 'SJN6HXHH116OZ8'"
   ]
  },
  {
   "cell_type": "code",
   "execution_count": 95,
   "metadata": {
    "collapsed": false
   },
   "outputs": [],
   "source": [
    "# define your inputs and starting time\n",
    "ref_des = 'RS01SBPS-SF01A-2A-CTDPFA102'\n",
    "stream = 'ctdpf_sbe43_sample'\n",
    "delivery_method = 'streamed'\n",
    "parameter = '7'\n",
    "begin_time = datetime.date(2017, 7, 10)"
   ]
  },
  {
   "cell_type": "code",
   "execution_count": 96,
   "metadata": {
    "collapsed": true
   },
   "outputs": [],
   "source": [
    "# prepare your time stamps\n",
    "begin_time_str = begin_time.strftime('%Y-%m-%dT%H:%M:%S.000Z')\n",
    "end_time = begin_time + datetime.timedelta(seconds=86400)\n",
    "end_time_str = end_time.strftime('%Y-%m-%dT%H:%M:%S.000Z')\n",
    "ntp_epoch = datetime.datetime(1900, 1, 1)\n",
    "unix_epoch = datetime.datetime(1970, 1, 1)\n",
    "ntp_delta = (unix_epoch - ntp_epoch).total_seconds()"
   ]
  },
  {
   "cell_type": "code",
   "execution_count": 97,
   "metadata": {
    "collapsed": false
   },
   "outputs": [
    {
     "name": "stdout",
     "output_type": "stream",
     "text": [
      "\n",
      " From 2017-07-10T00:00:00.000Z 2017-07-11T00:00:00.000Z :\n",
      "{\n",
      "  \"message\": \"Query returned no results for primary stream\", \n",
      "  \"requestUUID\": \"c1813012-a40a-40ea-aaec-2cc3dc1f8f5b\"\n",
      "}\n",
      "\n",
      "\n",
      " From 2017-07-11T00:00:00.000Z 2017-07-12T00:00:00.000Z :\n",
      "{\n",
      "  \"message\": \"Query returned no results for primary stream\", \n",
      "  \"requestUUID\": \"7b596e38-cd26-4d19-9c23-434005e4b0a1\"\n",
      "}\n",
      "\n"
     ]
    }
   ],
   "source": [
    "# while begin_time < datetime.datetime.now().date():\n",
    "for i in range(10):\n",
    "    try:        \n",
    "        response = requests.get('https://ooinet.oceanobservatories.org/api/m2m/12576/sensor/inv/'+ref_des[:8]+'/'+ref_des[9:14]+'/'+ref_des[15:27]+'/'+delivery_method+'/'+stream+'?beginDT='+begin_time_str+'&endDT='+end_time_str+'&limit=1000&parameters='+parameter, auth=(USERNAME, TOKEN))\n",
    "        data = response.json()\n",
    "        timestamp = data[0]['time']\n",
    "        timestamp = datetime.datetime.utcfromtimestamp(timestamp - ntp_delta).replace(microsecond=0)\n",
    "        print timestamp\n",
    "    except KeyError:\n",
    "        data = response.json()\n",
    "        print \"\\n From\", begin_time_str, end_time_str, \":\"\n",
    "        print data['status']\n",
    "        \n",
    "        \n",
    "    # move to next day\n",
    "    begin_time = begin_time + datetime.timedelta(seconds=86400)\n",
    "    begin_time_str = begin_time.strftime('%Y-%m-%dT%H:%M:%S.000Z')\n",
    "    end_time = end_time + datetime.timedelta(seconds=86400)\n",
    "    end_time_str = end_time.strftime('%Y-%m-%dT%H:%M:%S.000Z')\n",
    "\n"
   ]
  }
 ],
 "metadata": {
  "kernelspec": {
   "display_name": "Python 2",
   "language": "python",
   "name": "python2"
  },
  "language_info": {
   "codemirror_mode": {
    "name": "ipython",
    "version": 2
   },
   "file_extension": ".py",
   "mimetype": "text/x-python",
   "name": "python",
   "nbconvert_exporter": "python",
   "pygments_lexer": "ipython2",
   "version": "2.7.13"
  }
 },
 "nbformat": 4,
 "nbformat_minor": 2
}
