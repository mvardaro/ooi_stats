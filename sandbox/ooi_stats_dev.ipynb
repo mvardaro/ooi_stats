{
 "cells": [
  {
   "cell_type": "code",
   "execution_count": 312,
   "metadata": {
    "collapsed": true
   },
   "outputs": [],
   "source": [
    "import requests\n",
    "import json\n",
    "import datetime\n",
    "import pandas as pd"
   ]
  },
  {
   "cell_type": "code",
   "execution_count": 313,
   "metadata": {
    "collapsed": false
   },
   "outputs": [
    {
     "data": {
      "text/plain": [
       "'\\nFor every refdes\\n\\n    For every stream\\n\\n        For every day since start day until now\\n\\n            Request day of refdes + stream + pd7\\n\\n                If data in response\\n\\n                    Append refdes + stream + first time stamp within day to data frame\\n\\n                Else request next day\\n\\nDrop stream from data frame and collapse refdes into single entry per day with data\\n\\nPlot time series\\n\\n'"
      ]
     },
     "execution_count": 313,
     "metadata": {},
     "output_type": "execute_result"
    }
   ],
   "source": [
    "# gist\n",
    "\n",
    "'''\n",
    "For every refdes\n",
    "\n",
    "    For every stream\n",
    "\n",
    "        For every day since start day until now\n",
    "\n",
    "            Request day of refdes + stream + pd7\n",
    "\n",
    "                If data in response\n",
    "\n",
    "                    Append refdes + stream + first time stamp within day to data frame\n",
    "\n",
    "                Else request next day\n",
    "\n",
    "Drop stream from data frame and collapse refdes into single entry per day with data\n",
    "\n",
    "Plot time series\n",
    "\n",
    "'''\n"
   ]
  },
  {
   "cell_type": "code",
   "execution_count": 314,
   "metadata": {
    "collapsed": false
   },
   "outputs": [
    {
     "data": {
      "text/plain": [
       "'\\nTODO - remove when multiple stream and collapse by day\\n'"
      ]
     },
     "execution_count": 314,
     "metadata": {},
     "output_type": "execute_result"
    }
   ],
   "source": [
    "'''\n",
    "TODO - remove when multiple stream and collapse by day\n",
    "'''"
   ]
  },
  {
   "cell_type": "code",
   "execution_count": 315,
   "metadata": {
    "collapsed": false
   },
   "outputs": [],
   "source": [
    "USERNAME ='OOIAPI-9N9UMLHV9W5GOP'\n",
    "TOKEN= 'SJN6HXHH116OZ8'"
   ]
  },
  {
   "cell_type": "code",
   "execution_count": 316,
   "metadata": {
    "collapsed": false
   },
   "outputs": [],
   "source": [
    "# define your inputs and starting time\n",
    "\n",
    "refdes_streams = '/Users/knuth/Documents/ooi/repos/github/ooi_stats/botpt_streams.csv'\n",
    "begin_time_set = datetime.date(2016, 7, 10)"
   ]
  },
  {
   "cell_type": "code",
   "execution_count": 317,
   "metadata": {
    "collapsed": true
   },
   "outputs": [],
   "source": [
    "# wrangling\n",
    "\n",
    "# request only parameter 7 (time)\n",
    "parameter = '7' \n",
    "\n",
    "# read in csv (for now)\n",
    "refdes_streams_df = pd.read_csv(refdes_streams, parse_dates=True) # read in csv (for now).\n",
    "\n",
    "# prepare time stamp converters\n",
    "ntp_epoch = datetime.datetime(1900, 1, 1)\n",
    "unix_epoch = datetime.datetime(1970, 1, 1)\n",
    "ntp_delta = (unix_epoch - ntp_epoch).total_seconds()\n",
    "\n",
    "# create some empty lists as inputs for your final data frame output\n",
    "ref_des_list = []\n",
    "stream_list = []\n",
    "timestamp_list = []"
   ]
  },
  {
   "cell_type": "code",
   "execution_count": 319,
   "metadata": {
    "collapsed": false
   },
   "outputs": [
    {
     "name": "stdout",
     "output_type": "stream",
     "text": [
      "CPU times: user 2.47 s, sys: 121 ms, total: 2.59 s\n",
      "Wall time: 1min 20s\n"
     ]
    }
   ],
   "source": [
    "%%time\n",
    "\n",
    "# interate over reference designators, delivery methods and streams\n",
    "\n",
    "for index, row in refdes_streams_df.iterrows():\n",
    "    ref_des =  row['ref_des']\n",
    "    stream = row['stream']\n",
    "    delivery_method = row['delivery_method']\n",
    "    \n",
    "    begin_time = begin_time_set\n",
    "    begin_time_str = begin_time.strftime('%Y-%m-%dT%H:%M:%S.000Z')\n",
    "    end_time = begin_time + datetime.timedelta(seconds=86400)\n",
    "    end_time_str = end_time.strftime('%Y-%m-%dT%H:%M:%S.000Z')\n",
    "\n",
    "    # print ref_des,stream,delivery_method\n",
    "    \n",
    "    # while begin_time < datetime.datetime.now().date(): # use this to run from begin time until present\n",
    "    for i in range(5): # use for testing\n",
    "        \n",
    "        try:        \n",
    "            response = requests.get('https://ooinet.oceanobservatories.org/api/m2m/12576/sensor/inv/'+ref_des[:8]+'/'+ref_des[9:14]+'/'+ref_des[15:27]+'/'+delivery_method+'/'+stream+'?beginDT='+begin_time_str+'&endDT='+end_time_str+'&limit=1000&parameters='+parameter, auth=(USERNAME, TOKEN))\n",
    "            data = response.json()\n",
    "            timestamp = data[0]['time']\n",
    "            timestamp = datetime.datetime.utcfromtimestamp(timestamp - ntp_delta).replace(microsecond=0)\n",
    "            timestamp = timestamp.date()\n",
    "\n",
    "            # print timestamp\n",
    "\n",
    "            ref_des_list.append(ref_des)\n",
    "            stream_list.append(stream)\n",
    "            timestamp_list.append(timestamp)\n",
    "\n",
    "        except:\n",
    "            data = response.json()\n",
    "            # print \"\\n From\", begin_time_str, end_time_str, \":\"\n",
    "            # print data['status']\n",
    "\n",
    "\n",
    "        # move to next day\n",
    "        begin_time = begin_time + datetime.timedelta(seconds=86400)\n",
    "        begin_time_str = begin_time.strftime('%Y-%m-%dT%H:%M:%S.000Z')\n",
    "        end_time = end_time + datetime.timedelta(seconds=86400)\n",
    "        end_time_str = end_time.strftime('%Y-%m-%dT%H:%M:%S.000Z')\n"
   ]
  },
  {
   "cell_type": "code",
   "execution_count": 282,
   "metadata": {
    "collapsed": false
   },
   "outputs": [
    {
     "name": "stdout",
     "output_type": "stream",
     "text": [
      "                        refdes             stream   timestamp\n",
      "0  RS03CCAL-MJ03F-05-BOTPTA301  botpt_heat_sample  2016-07-09\n",
      "1  RS03CCAL-MJ03F-05-BOTPTA301  botpt_heat_sample  2016-07-10\n",
      "2  RS03CCAL-MJ03F-05-BOTPTA301  botpt_heat_sample  2016-07-12\n",
      "3  RS03CCAL-MJ03F-05-BOTPTA301  botpt_heat_sample  2016-07-12\n",
      "4  RS03CCAL-MJ03F-05-BOTPTA301  botpt_heat_sample  2016-07-13\n"
     ]
    }
   ],
   "source": [
    "# convert lists to data frame\n",
    "data_dict = {\n",
    "    'refdes':ref_des_list,\n",
    "    'stream':stream_list,\n",
    "    'timestamp':timestamp_list}\n",
    "ooi_data = pd.DataFrame(data_dict, columns = ['refdes', 'stream', 'timestamp'])\n",
    "print ooi_data.head()"
   ]
  },
  {
   "cell_type": "code",
   "execution_count": 301,
   "metadata": {
    "collapsed": false
   },
   "outputs": [],
   "source": [
    "# collapse by unique ref_des and day with data\n",
    "test = ooi_data\n",
    "test = test.drop('stream', axis = 1)\n",
    "test = test.drop_duplicates()"
   ]
  },
  {
   "cell_type": "code",
   "execution_count": 302,
   "metadata": {
    "collapsed": false
   },
   "outputs": [
    {
     "data": {
      "text/html": [
       "<div>\n",
       "<table border=\"1\" class=\"dataframe\">\n",
       "  <thead>\n",
       "    <tr style=\"text-align: right;\">\n",
       "      <th></th>\n",
       "      <th>refdes</th>\n",
       "      <th>stream</th>\n",
       "      <th>timestamp</th>\n",
       "    </tr>\n",
       "  </thead>\n",
       "  <tbody>\n",
       "    <tr>\n",
       "      <th>0</th>\n",
       "      <td>RS03CCAL-MJ03F-05-BOTPTA301</td>\n",
       "      <td>botpt_heat_sample</td>\n",
       "      <td>2016-07-09</td>\n",
       "    </tr>\n",
       "    <tr>\n",
       "      <th>1</th>\n",
       "      <td>RS03CCAL-MJ03F-05-BOTPTA301</td>\n",
       "      <td>botpt_heat_sample</td>\n",
       "      <td>2016-07-10</td>\n",
       "    </tr>\n",
       "    <tr>\n",
       "      <th>2</th>\n",
       "      <td>RS03CCAL-MJ03F-05-BOTPTA301</td>\n",
       "      <td>botpt_heat_sample</td>\n",
       "      <td>2016-07-12</td>\n",
       "    </tr>\n",
       "    <tr>\n",
       "      <th>3</th>\n",
       "      <td>RS03CCAL-MJ03F-05-BOTPTA301</td>\n",
       "      <td>botpt_heat_sample</td>\n",
       "      <td>2016-07-12</td>\n",
       "    </tr>\n",
       "    <tr>\n",
       "      <th>4</th>\n",
       "      <td>RS03CCAL-MJ03F-05-BOTPTA301</td>\n",
       "      <td>botpt_heat_sample</td>\n",
       "      <td>2016-07-13</td>\n",
       "    </tr>\n",
       "  </tbody>\n",
       "</table>\n",
       "</div>"
      ],
      "text/plain": [
       "                        refdes             stream   timestamp\n",
       "0  RS03CCAL-MJ03F-05-BOTPTA301  botpt_heat_sample  2016-07-09\n",
       "1  RS03CCAL-MJ03F-05-BOTPTA301  botpt_heat_sample  2016-07-10\n",
       "2  RS03CCAL-MJ03F-05-BOTPTA301  botpt_heat_sample  2016-07-12\n",
       "3  RS03CCAL-MJ03F-05-BOTPTA301  botpt_heat_sample  2016-07-12\n",
       "4  RS03CCAL-MJ03F-05-BOTPTA301  botpt_heat_sample  2016-07-13"
      ]
     },
     "execution_count": 302,
     "metadata": {},
     "output_type": "execute_result"
    }
   ],
   "source": [
    "ooi_data.head()"
   ]
  },
  {
   "cell_type": "code",
   "execution_count": 303,
   "metadata": {
    "collapsed": false
   },
   "outputs": [
    {
     "data": {
      "text/html": [
       "<div>\n",
       "<table border=\"1\" class=\"dataframe\">\n",
       "  <thead>\n",
       "    <tr style=\"text-align: right;\">\n",
       "      <th></th>\n",
       "      <th>refdes</th>\n",
       "      <th>timestamp</th>\n",
       "    </tr>\n",
       "  </thead>\n",
       "  <tbody>\n",
       "    <tr>\n",
       "      <th>0</th>\n",
       "      <td>RS03CCAL-MJ03F-05-BOTPTA301</td>\n",
       "      <td>2016-07-09</td>\n",
       "    </tr>\n",
       "    <tr>\n",
       "      <th>1</th>\n",
       "      <td>RS03CCAL-MJ03F-05-BOTPTA301</td>\n",
       "      <td>2016-07-10</td>\n",
       "    </tr>\n",
       "    <tr>\n",
       "      <th>2</th>\n",
       "      <td>RS03CCAL-MJ03F-05-BOTPTA301</td>\n",
       "      <td>2016-07-12</td>\n",
       "    </tr>\n",
       "    <tr>\n",
       "      <th>4</th>\n",
       "      <td>RS03CCAL-MJ03F-05-BOTPTA301</td>\n",
       "      <td>2016-07-13</td>\n",
       "    </tr>\n",
       "    <tr>\n",
       "      <th>5</th>\n",
       "      <td>RS03CCAL-MJ03F-05-BOTPTA301</td>\n",
       "      <td>2016-07-15</td>\n",
       "    </tr>\n",
       "  </tbody>\n",
       "</table>\n",
       "</div>"
      ],
      "text/plain": [
       "                        refdes   timestamp\n",
       "0  RS03CCAL-MJ03F-05-BOTPTA301  2016-07-09\n",
       "1  RS03CCAL-MJ03F-05-BOTPTA301  2016-07-10\n",
       "2  RS03CCAL-MJ03F-05-BOTPTA301  2016-07-12\n",
       "4  RS03CCAL-MJ03F-05-BOTPTA301  2016-07-13\n",
       "5  RS03CCAL-MJ03F-05-BOTPTA301  2016-07-15"
      ]
     },
     "execution_count": 303,
     "metadata": {},
     "output_type": "execute_result"
    }
   ],
   "source": [
    "test.head()"
   ]
  },
  {
   "cell_type": "code",
   "execution_count": 304,
   "metadata": {
    "collapsed": true
   },
   "outputs": [],
   "source": [
    "import matplotlib.pyplot as plt\n",
    "import matplotlib.patches as mpatches"
   ]
  },
  {
   "cell_type": "code",
   "execution_count": 320,
   "metadata": {
    "collapsed": false
   },
   "outputs": [],
   "source": [
    "for index, row in test.iterrows():\n",
    "    StartTime = row['timestamp']\n",
    "    EndTime = row['timestamp'] + datetime.timedelta(seconds=86400)\n",
    "    stream_time = np.array([StartTime,EndTime])\n",
    "    stream_shape = np.full((stream_time.shape), 1)\n",
    "    plt.plot(stream_time, stream_shape, linewidth=10, color='blue')"
   ]
  },
  {
   "cell_type": "code",
   "execution_count": 321,
   "metadata": {
    "collapsed": false
   },
   "outputs": [
    {
     "data": {
      "image/png": "[encoded data removed]",
      "text/plain": [
       "<matplotlib.figure.Figure at 0x107097a50>"
      ]
     },
     "metadata": {},
     "output_type": "display_data"
    }
   ],
   "source": [
    "plt.xticks(rotation=20)\n",
    "plt.tight_layout()\n",
    "plt.grid()\n",
    "plt.show()"
   ]
  },
  {
   "cell_type": "code",
   "execution_count": null,
   "metadata": {
    "collapsed": true
   },
   "outputs": [],
   "source": []
  }
 ],
 "metadata": {
  "kernelspec": {
   "display_name": "Python 2",
   "language": "python",
   "name": "python2"
  },
  "language_info": {
   "codemirror_mode": {
    "name": "ipython",
    "version": 2
   },
   "file_extension": ".py",
   "mimetype": "text/x-python",
   "name": "python",
   "nbconvert_exporter": "python",
   "pygments_lexer": "ipython2",
   "version": "2.7.13"
  }
 },
 "nbformat": 4,
 "nbformat_minor": 2
}
